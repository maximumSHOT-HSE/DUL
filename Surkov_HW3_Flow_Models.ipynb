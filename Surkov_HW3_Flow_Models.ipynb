{
  "nbformat": 4,
  "nbformat_minor": 0,
  "metadata": {
    "colab": {
      "name": "Surkov_HW3_Flow_Models.ipynb",
      "provenance": [],
      "collapsed_sections": [],
      "include_colab_link": true
    },
    "kernelspec": {
      "name": "python3",
      "display_name": "Python 3"
    },
    "accelerator": "GPU",
    "widgets": {
      "application/vnd.jupyter.widget-state+json": {
        "0da80106fcb444a5ae4a0365dc19812a": {
          "model_module": "@jupyter-widgets/controls",
          "model_name": "HBoxModel",
          "state": {
            "_view_name": "HBoxView",
            "_dom_classes": [],
            "_model_name": "HBoxModel",
            "_view_module": "@jupyter-widgets/controls",
            "_model_module_version": "1.5.0",
            "_view_count": null,
            "_view_module_version": "1.5.0",
            "box_style": "",
            "layout": "IPY_MODEL_24a8b41cde3a4af5ab41349ea75e62f6",
            "_model_module": "@jupyter-widgets/controls",
            "children": [
              "IPY_MODEL_ab506739afbd49708ea2aa23b977488d",
              "IPY_MODEL_dc5b0e13ea6a4298828291f83979f1bd"
            ]
          }
        },
        "24a8b41cde3a4af5ab41349ea75e62f6": {
          "model_module": "@jupyter-widgets/base",
          "model_name": "LayoutModel",
          "state": {
            "_view_name": "LayoutView",
            "grid_template_rows": null,
            "right": null,
            "justify_content": null,
            "_view_module": "@jupyter-widgets/base",
            "overflow": null,
            "_model_module_version": "1.2.0",
            "_view_count": null,
            "flex_flow": null,
            "width": null,
            "min_width": null,
            "border": null,
            "align_items": null,
            "bottom": null,
            "_model_module": "@jupyter-widgets/base",
            "top": null,
            "grid_column": null,
            "overflow_y": null,
            "overflow_x": null,
            "grid_auto_flow": null,
            "grid_area": null,
            "grid_template_columns": null,
            "flex": null,
            "_model_name": "LayoutModel",
            "justify_items": null,
            "grid_row": null,
            "max_height": null,
            "align_content": null,
            "visibility": null,
            "align_self": null,
            "height": null,
            "min_height": null,
            "padding": null,
            "grid_auto_rows": null,
            "grid_gap": null,
            "max_width": null,
            "order": null,
            "_view_module_version": "1.2.0",
            "grid_template_areas": null,
            "object_position": null,
            "object_fit": null,
            "grid_auto_columns": null,
            "margin": null,
            "display": null,
            "left": null
          }
        },
        "ab506739afbd49708ea2aa23b977488d": {
          "model_module": "@jupyter-widgets/controls",
          "model_name": "FloatProgressModel",
          "state": {
            "_view_name": "ProgressView",
            "style": "IPY_MODEL_0660d8fdbee640e08bd418d3099e8e66",
            "_dom_classes": [],
            "description": "  0%",
            "_model_name": "FloatProgressModel",
            "bar_style": "danger",
            "max": 100,
            "_view_module": "@jupyter-widgets/controls",
            "_model_module_version": "1.5.0",
            "value": 0,
            "_view_count": null,
            "_view_module_version": "1.5.0",
            "orientation": "horizontal",
            "min": 0,
            "description_tooltip": null,
            "_model_module": "@jupyter-widgets/controls",
            "layout": "IPY_MODEL_dee20fe6f2d5403e8d248a13d38af333"
          }
        },
        "dc5b0e13ea6a4298828291f83979f1bd": {
          "model_module": "@jupyter-widgets/controls",
          "model_name": "HTMLModel",
          "state": {
            "_view_name": "HTMLView",
            "style": "IPY_MODEL_428ab3a9f0b046a1ac9898f449a849c4",
            "_dom_classes": [],
            "description": "",
            "_model_name": "HTMLModel",
            "placeholder": "​",
            "_view_module": "@jupyter-widgets/controls",
            "_model_module_version": "1.5.0",
            "value": " 0/100 [00:00&lt;?, ?it/s]",
            "_view_count": null,
            "_view_module_version": "1.5.0",
            "description_tooltip": null,
            "_model_module": "@jupyter-widgets/controls",
            "layout": "IPY_MODEL_b9e92864c8c543548927fe2b851efbfe"
          }
        },
        "0660d8fdbee640e08bd418d3099e8e66": {
          "model_module": "@jupyter-widgets/controls",
          "model_name": "ProgressStyleModel",
          "state": {
            "_view_name": "StyleView",
            "_model_name": "ProgressStyleModel",
            "description_width": "initial",
            "_view_module": "@jupyter-widgets/base",
            "_model_module_version": "1.5.0",
            "_view_count": null,
            "_view_module_version": "1.2.0",
            "bar_color": null,
            "_model_module": "@jupyter-widgets/controls"
          }
        },
        "dee20fe6f2d5403e8d248a13d38af333": {
          "model_module": "@jupyter-widgets/base",
          "model_name": "LayoutModel",
          "state": {
            "_view_name": "LayoutView",
            "grid_template_rows": null,
            "right": null,
            "justify_content": null,
            "_view_module": "@jupyter-widgets/base",
            "overflow": null,
            "_model_module_version": "1.2.0",
            "_view_count": null,
            "flex_flow": null,
            "width": null,
            "min_width": null,
            "border": null,
            "align_items": null,
            "bottom": null,
            "_model_module": "@jupyter-widgets/base",
            "top": null,
            "grid_column": null,
            "overflow_y": null,
            "overflow_x": null,
            "grid_auto_flow": null,
            "grid_area": null,
            "grid_template_columns": null,
            "flex": null,
            "_model_name": "LayoutModel",
            "justify_items": null,
            "grid_row": null,
            "max_height": null,
            "align_content": null,
            "visibility": null,
            "align_self": null,
            "height": null,
            "min_height": null,
            "padding": null,
            "grid_auto_rows": null,
            "grid_gap": null,
            "max_width": null,
            "order": null,
            "_view_module_version": "1.2.0",
            "grid_template_areas": null,
            "object_position": null,
            "object_fit": null,
            "grid_auto_columns": null,
            "margin": null,
            "display": null,
            "left": null
          }
        },
        "428ab3a9f0b046a1ac9898f449a849c4": {
          "model_module": "@jupyter-widgets/controls",
          "model_name": "DescriptionStyleModel",
          "state": {
            "_view_name": "StyleView",
            "_model_name": "DescriptionStyleModel",
            "description_width": "",
            "_view_module": "@jupyter-widgets/base",
            "_model_module_version": "1.5.0",
            "_view_count": null,
            "_view_module_version": "1.2.0",
            "_model_module": "@jupyter-widgets/controls"
          }
        },
        "b9e92864c8c543548927fe2b851efbfe": {
          "model_module": "@jupyter-widgets/base",
          "model_name": "LayoutModel",
          "state": {
            "_view_name": "LayoutView",
            "grid_template_rows": null,
            "right": null,
            "justify_content": null,
            "_view_module": "@jupyter-widgets/base",
            "overflow": null,
            "_model_module_version": "1.2.0",
            "_view_count": null,
            "flex_flow": null,
            "width": null,
            "min_width": null,
            "border": null,
            "align_items": null,
            "bottom": null,
            "_model_module": "@jupyter-widgets/base",
            "top": null,
            "grid_column": null,
            "overflow_y": null,
            "overflow_x": null,
            "grid_auto_flow": null,
            "grid_area": null,
            "grid_template_columns": null,
            "flex": null,
            "_model_name": "LayoutModel",
            "justify_items": null,
            "grid_row": null,
            "max_height": null,
            "align_content": null,
            "visibility": null,
            "align_self": null,
            "height": null,
            "min_height": null,
            "padding": null,
            "grid_auto_rows": null,
            "grid_gap": null,
            "max_width": null,
            "order": null,
            "_view_module_version": "1.2.0",
            "grid_template_areas": null,
            "object_position": null,
            "object_fit": null,
            "grid_auto_columns": null,
            "margin": null,
            "display": null,
            "left": null
          }
        },
        "b5e1206d9e49469fa777fae6cfd01ea2": {
          "model_module": "@jupyter-widgets/controls",
          "model_name": "HBoxModel",
          "state": {
            "_view_name": "HBoxView",
            "_dom_classes": [],
            "_model_name": "HBoxModel",
            "_view_module": "@jupyter-widgets/controls",
            "_model_module_version": "1.5.0",
            "_view_count": null,
            "_view_module_version": "1.5.0",
            "box_style": "",
            "layout": "IPY_MODEL_723455b8551b4be48856fafb4a50037d",
            "_model_module": "@jupyter-widgets/controls",
            "children": [
              "IPY_MODEL_bfaa7f2c45304d859e407e93cf69a7d1",
              "IPY_MODEL_563c3f5abd6640fe8a918c3556d19d58"
            ]
          }
        },
        "723455b8551b4be48856fafb4a50037d": {
          "model_module": "@jupyter-widgets/base",
          "model_name": "LayoutModel",
          "state": {
            "_view_name": "LayoutView",
            "grid_template_rows": null,
            "right": null,
            "justify_content": null,
            "_view_module": "@jupyter-widgets/base",
            "overflow": null,
            "_model_module_version": "1.2.0",
            "_view_count": null,
            "flex_flow": null,
            "width": null,
            "min_width": null,
            "border": null,
            "align_items": null,
            "bottom": null,
            "_model_module": "@jupyter-widgets/base",
            "top": null,
            "grid_column": null,
            "overflow_y": null,
            "overflow_x": null,
            "grid_auto_flow": null,
            "grid_area": null,
            "grid_template_columns": null,
            "flex": null,
            "_model_name": "LayoutModel",
            "justify_items": null,
            "grid_row": null,
            "max_height": null,
            "align_content": null,
            "visibility": null,
            "align_self": null,
            "height": null,
            "min_height": null,
            "padding": null,
            "grid_auto_rows": null,
            "grid_gap": null,
            "max_width": null,
            "order": null,
            "_view_module_version": "1.2.0",
            "grid_template_areas": null,
            "object_position": null,
            "object_fit": null,
            "grid_auto_columns": null,
            "margin": null,
            "display": null,
            "left": null
          }
        },
        "bfaa7f2c45304d859e407e93cf69a7d1": {
          "model_module": "@jupyter-widgets/controls",
          "model_name": "FloatProgressModel",
          "state": {
            "_view_name": "ProgressView",
            "style": "IPY_MODEL_afbf366e69614b87b563bad641aa6692",
            "_dom_classes": [],
            "description": "  0%",
            "_model_name": "FloatProgressModel",
            "bar_style": "danger",
            "max": 200,
            "_view_module": "@jupyter-widgets/controls",
            "_model_module_version": "1.5.0",
            "value": 0,
            "_view_count": null,
            "_view_module_version": "1.5.0",
            "orientation": "horizontal",
            "min": 0,
            "description_tooltip": null,
            "_model_module": "@jupyter-widgets/controls",
            "layout": "IPY_MODEL_d49dc00f3b4b4e17926455064e54de24"
          }
        },
        "563c3f5abd6640fe8a918c3556d19d58": {
          "model_module": "@jupyter-widgets/controls",
          "model_name": "HTMLModel",
          "state": {
            "_view_name": "HTMLView",
            "style": "IPY_MODEL_173d67232a3d4d5490699a4c0331e2ff",
            "_dom_classes": [],
            "description": "",
            "_model_name": "HTMLModel",
            "placeholder": "​",
            "_view_module": "@jupyter-widgets/controls",
            "_model_module_version": "1.5.0",
            "value": " 0/200 [00:00&lt;?, ?it/s]",
            "_view_count": null,
            "_view_module_version": "1.5.0",
            "description_tooltip": null,
            "_model_module": "@jupyter-widgets/controls",
            "layout": "IPY_MODEL_5f5713a484744c2d9a08bde23abe4911"
          }
        },
        "afbf366e69614b87b563bad641aa6692": {
          "model_module": "@jupyter-widgets/controls",
          "model_name": "ProgressStyleModel",
          "state": {
            "_view_name": "StyleView",
            "_model_name": "ProgressStyleModel",
            "description_width": "initial",
            "_view_module": "@jupyter-widgets/base",
            "_model_module_version": "1.5.0",
            "_view_count": null,
            "_view_module_version": "1.2.0",
            "bar_color": null,
            "_model_module": "@jupyter-widgets/controls"
          }
        },
        "d49dc00f3b4b4e17926455064e54de24": {
          "model_module": "@jupyter-widgets/base",
          "model_name": "LayoutModel",
          "state": {
            "_view_name": "LayoutView",
            "grid_template_rows": null,
            "right": null,
            "justify_content": null,
            "_view_module": "@jupyter-widgets/base",
            "overflow": null,
            "_model_module_version": "1.2.0",
            "_view_count": null,
            "flex_flow": null,
            "width": null,
            "min_width": null,
            "border": null,
            "align_items": null,
            "bottom": null,
            "_model_module": "@jupyter-widgets/base",
            "top": null,
            "grid_column": null,
            "overflow_y": null,
            "overflow_x": null,
            "grid_auto_flow": null,
            "grid_area": null,
            "grid_template_columns": null,
            "flex": null,
            "_model_name": "LayoutModel",
            "justify_items": null,
            "grid_row": null,
            "max_height": null,
            "align_content": null,
            "visibility": null,
            "align_self": null,
            "height": null,
            "min_height": null,
            "padding": null,
            "grid_auto_rows": null,
            "grid_gap": null,
            "max_width": null,
            "order": null,
            "_view_module_version": "1.2.0",
            "grid_template_areas": null,
            "object_position": null,
            "object_fit": null,
            "grid_auto_columns": null,
            "margin": null,
            "display": null,
            "left": null
          }
        },
        "173d67232a3d4d5490699a4c0331e2ff": {
          "model_module": "@jupyter-widgets/controls",
          "model_name": "DescriptionStyleModel",
          "state": {
            "_view_name": "StyleView",
            "_model_name": "DescriptionStyleModel",
            "description_width": "",
            "_view_module": "@jupyter-widgets/base",
            "_model_module_version": "1.5.0",
            "_view_count": null,
            "_view_module_version": "1.2.0",
            "_model_module": "@jupyter-widgets/controls"
          }
        },
        "5f5713a484744c2d9a08bde23abe4911": {
          "model_module": "@jupyter-widgets/base",
          "model_name": "LayoutModel",
          "state": {
            "_view_name": "LayoutView",
            "grid_template_rows": null,
            "right": null,
            "justify_content": null,
            "_view_module": "@jupyter-widgets/base",
            "overflow": null,
            "_model_module_version": "1.2.0",
            "_view_count": null,
            "flex_flow": null,
            "width": null,
            "min_width": null,
            "border": null,
            "align_items": null,
            "bottom": null,
            "_model_module": "@jupyter-widgets/base",
            "top": null,
            "grid_column": null,
            "overflow_y": null,
            "overflow_x": null,
            "grid_auto_flow": null,
            "grid_area": null,
            "grid_template_columns": null,
            "flex": null,
            "_model_name": "LayoutModel",
            "justify_items": null,
            "grid_row": null,
            "max_height": null,
            "align_content": null,
            "visibility": null,
            "align_self": null,
            "height": null,
            "min_height": null,
            "padding": null,
            "grid_auto_rows": null,
            "grid_gap": null,
            "max_width": null,
            "order": null,
            "_view_module_version": "1.2.0",
            "grid_template_areas": null,
            "object_position": null,
            "object_fit": null,
            "grid_auto_columns": null,
            "margin": null,
            "display": null,
            "left": null
          }
        }
      }
    }
  },
  "cells": [
    {
      "cell_type": "markdown",
      "metadata": {
        "id": "view-in-github",
        "colab_type": "text"
      },
      "source": [
        "<a href=\"https://colab.research.google.com/github/maximumSHOT-HSE/DUL/blob/hw03/Surkov_HW3_Flow_Models.ipynb\" target=\"_parent\"><img src=\"https://colab.research.google.com/assets/colab-badge.svg\" alt=\"Open In Colab\"/></a>"
      ]
    },
    {
      "cell_type": "markdown",
      "metadata": {
        "id": "5tD_LgWqZ8y1"
      },
      "source": [
        "<a href=\"https://colab.research.google.com/github/rll/deepul/blob/master/homeworks/hw2/hw2_notebook.ipynb\" target=\"_parent\"><img src=\"https://colab.research.google.com/assets/colab-badge.svg\" alt=\"Open In Colab\"/></a>"
      ]
    },
    {
      "cell_type": "markdown",
      "metadata": {
        "id": "Rdy1FtrRpGcC"
      },
      "source": [
        "# Getting Started\n",
        "\n",
        "## Overview\n",
        "This semester, all homeworks will be conducted through Google Colab notebooks. All code for the homework assignment will be written and run in this notebook. Running in Colab will automatically provide a GPU, but you may also run this notebook locally by following [these instructions](https://research.google.com/colaboratory/local-runtimes.html) if you wish to use your own GPU.\n",
        "\n",
        "You will save images in the notebooks to use and fill out a given LaTeX template which will be submitted to Gradescope, along with your notebook code.\n",
        "\n",
        "## Using Colab\n",
        "On the left-hand side, you can click the different icons to see a Table of Contents of the assignment, as well as local files accessible through the notebook.\n",
        "\n",
        "Make sure to go to **Runtime -> Change runtime type** and select **GPU** as the hardware accelerator. This allows you to use a GPU. Run the cells below to get started on the assignment. Note that a session is open for a maximum of 12 hours, and using too much GPU compute may result in restricted access for a short period of time. Please start the homework early so you have ample time to work.\n",
        "\n",
        "**If you loaded this notebook from clicking \"Open in Colab\" from github, you will need to save it to your own Google Drive to keep your work.**\n",
        "\n",
        "## General Tips\n",
        "In each homework problem, you will implement an flow model and run it on one to two datasets. We provide the expected outputs to help as a sanity check.\n",
        "\n",
        "Feel free to print whatever output (e.g. debugging code, training code, etc) you want, as the graded submission will be the submitted pdf with images.\n",
        "\n",
        "After you complete the assignment, download all of the image outputted in the results/ folder and upload them to the figure folder in the given latex template.\n",
        "\n",
        "Run the cells below to download and load up the starter code."
      ]
    },
    {
      "cell_type": "code",
      "metadata": {
        "id": "wUVy2glDtoaR",
        "colab": {
          "base_uri": "https://localhost:8080/"
        },
        "outputId": "26df8bee-c7b5-4faa-d9f6-7f9abae46e8d"
      },
      "source": [
        "!if [ -d deepul ]; then rm -Rf deepul; fi\n",
        "!git clone https://github.com/rll/deepul.git \n",
        "!pip install ./deepul"
      ],
      "execution_count": 1,
      "outputs": [
        {
          "output_type": "stream",
          "text": [
            "Cloning into 'deepul'...\n",
            "remote: Enumerating objects: 749, done.\u001b[K\n",
            "remote: Total 749 (delta 0), reused 0 (delta 0), pack-reused 749\u001b[K\n",
            "Receiving objects: 100% (749/749), 114.89 MiB | 33.38 MiB/s, done.\n",
            "Resolving deltas: 100% (345/345), done.\n",
            "Checking out files: 100% (129/129), done.\n",
            "Processing ./deepul\n",
            "Building wheels for collected packages: deepul\n",
            "  Building wheel for deepul (setup.py) ... \u001b[?25l\u001b[?25hdone\n",
            "  Created wheel for deepul: filename=deepul-0.1.0-cp36-none-any.whl size=16678 sha256=9087d671779b614ae347d6c06ca5f2c7bceaa31a0896eb041485feacaf3b469b\n",
            "  Stored in directory: /tmp/pip-ephem-wheel-cache-jyudgkh8/wheels/39/1a/4b/a6f51db275abb2e5dae32540e06ed5011e792f162467bd3aa8\n",
            "Successfully built deepul\n",
            "Installing collected packages: deepul\n",
            "Successfully installed deepul-0.1.0\n"
          ],
          "name": "stdout"
        }
      ]
    },
    {
      "cell_type": "code",
      "metadata": {
        "id": "ZHWosWrbpO5Y"
      },
      "source": [
        "from deepul.hw2_helper import *"
      ],
      "execution_count": 2,
      "outputs": []
    },
    {
      "cell_type": "markdown",
      "metadata": {
        "id": "7E4CMktzo100"
      },
      "source": [
        "# Question 1: 2D Data\n",
        "\n",
        "In this question, we will train two variants of flow models on continuous 2D data. \n",
        "\n",
        "Execute the cell below to visualize our datasets"
      ]
    },
    {
      "cell_type": "code",
      "metadata": {
        "id": "ehhv2FZGo4_b",
        "colab": {
          "base_uri": "https://localhost:8080/",
          "height": 695
        },
        "outputId": "c1cbdf38-ead7-458e-e793-f1c345f3b2a0"
      },
      "source": [
        "visualize_q1_data(dset_type=1)\n",
        "visualize_q1_data(dset_type=2)"
      ],
      "execution_count": 3,
      "outputs": [
        {
          "output_type": "stream",
          "text": [
            "Dataset 1\n"
          ],
          "name": "stdout"
        },
        {
          "output_type": "display_data",
          "data": {
            "image/png": "[encoded data removed]",
            "text/plain": [
              "<Figure size 691.2x345.6 with 2 Axes>"
            ]
          },
          "metadata": {
            "tags": [],
            "needs_background": "light"
          }
        },
        {
          "output_type": "stream",
          "text": [
            "Dataset 2\n"
          ],
          "name": "stdout"
        },
        {
          "output_type": "display_data",
          "data": {
            "image/png": "[encoded data removed]",
            "text/plain": [
              "<Figure size 691.2x345.6 with 2 Axes>"
            ]
          },
          "metadata": {
            "tags": [],
            "needs_background": "light"
          }
        }
      ]
    },
    {
      "cell_type": "markdown",
      "metadata": {
        "id": "kSGTVznZqAR3"
      },
      "source": [
        "## Part (a) Autoregressive Flow [15pt]\n",
        "\n",
        "In an autoregressive flow, we learn the transformation $z_i = f(x_i ; x_{1:i-1})$. The log-likelihood is then $\\log p_\\theta(x) = \\sum_{i=1}^d \\log p(z_i) + \\log |\\frac{dz_i}{dx_i}|$ because the Jacobian is triangular. For each dimension, use the CDF of a mixture of Gaussians or Logistics to map to the latent space, which should be $z_i \\sim \\text{Unif}[0, 1]$ i.i.d..\n",
        "\n",
        "Fit $p_\\theta$ with maximum likelihood via stochastic gradient descent on the training set. Since this is a 2D problem, you can either learn $z_0 = f(x_0)$ and $z_1 = f(x_1; x_0)$ together with a MADE model, or with separate networks. Use your favorite version of stochastic gradient descent, and optimize your hyperparameters on a validation set of your choice.\n",
        "\n",
        "**You will provide these deliverables**\n",
        "\n",
        "\n",
        "1.   Over the course of training, record the average negative log-likelihood (nats / dim) of the training data (per minibatch) and test data (for your entire test set). Code is provided that automatically plots the training curves. \n",
        "2.   Report the final test set performance of your final model\n",
        "3. Show a heatmap of the densities learned by your model\n",
        "4. Show what the training set looks like when mapped to the latent space. \n",
        "\n",
        "\n"
      ]
    },
    {
      "cell_type": "markdown",
      "metadata": {
        "id": "Yg0Jmo1PSaE4"
      },
      "source": [
        "### Solution\n",
        "Fill out the function below and return the necessary arguments. Feel free to create more cells if need be."
      ]
    },
    {
      "cell_type": "code",
      "metadata": {
        "id": "1FkCZquVfzlw"
      },
      "source": [
        "import torch\n",
        "from torch.utils.data import Dataset, DataLoader\n",
        "import torch.nn as nn\n",
        "from torch.nn.parameter import Parameter\n",
        "import torch.optim as optim\n",
        "import numpy as np\n",
        "from tqdm.notebook import tqdm\n",
        "from torch.distributions import Uniform\n",
        "from torch.distributions.normal import Normal\n",
        "from torch.distributions.categorical import Categorical\n",
        "import torch.nn.functional as F"
      ],
      "execution_count": 4,
      "outputs": []
    },
    {
      "cell_type": "code",
      "metadata": {
        "id": "Pi3PQEvIf2hZ"
      },
      "source": [
        "class MaskedLinearLayer(nn.Linear):\n",
        "    def __init__(self, c_blocks: int, in_block_size: int, out_block_size, device, strictly_before: bool = True):\n",
        "        super().__init__(in_block_size * c_blocks, out_block_size * c_blocks, bias=True)\n",
        "        self.c_blocks = c_blocks\n",
        "\n",
        "        # build mask\n",
        "        self.mask = torch.zeros(out_block_size * c_blocks, in_block_size * c_blocks).float().to(device)\n",
        "        for i in range(c_blocks):\n",
        "            for j in range(i + int(not strictly_before)):\n",
        "                self.mask[i * out_block_size: (i + 1) * out_block_size, j * in_block_size: (j + 1) * in_block_size] = 1\n",
        "\n",
        "    def forward(self, input: torch.Tensor) -> torch.Tensor:\n",
        "        return F.linear(input, self.weight * self.mask, self.bias)"
      ],
      "execution_count": 5,
      "outputs": []
    },
    {
      "cell_type": "code",
      "metadata": {
        "id": "ZpuESXV6f5Gs"
      },
      "source": [
        "def build_layers(c_blocks, _sizes: list, device):\n",
        "    layers = []\n",
        "    for i in range(1, len(_sizes)):\n",
        "        layers.append(MaskedLinearLayer(c_blocks, _sizes[i - 1], _sizes[i], device, i == 1))\n",
        "        layers.append(nn.ReLU())\n",
        "    layers.pop()\n",
        "    return nn.Sequential(*tuple(layers))"
      ],
      "execution_count": 6,
      "outputs": []
    },
    {
      "cell_type": "code",
      "metadata": {
        "id": "S3Hopx_Zf8EJ"
      },
      "source": [
        "class MADE(nn.Module):\n",
        "    def __init__(self, c_blocks: int, layers_blocks_sizes: list, device):\n",
        "        super().__init__()\n",
        "        self._sizes = layers_blocks_sizes\n",
        "        self.layers = build_layers(c_blocks, self._sizes, device)\n",
        "        \n",
        "    def forward(self, x):\n",
        "        return self.layers(x)"
      ],
      "execution_count": 7,
      "outputs": []
    },
    {
      "cell_type": "code",
      "metadata": {
        "id": "y6qrtIabgjk_"
      },
      "source": [
        "class QDataset(Dataset):\n",
        "    def __init__(self, data: np.ndarray):\n",
        "        self.data = data\n",
        "\n",
        "    def __len__(self):\n",
        "        return self.data.shape[0]\n",
        "\n",
        "    def __getitem__(self, id):\n",
        "        return self.data[id]"
      ],
      "execution_count": 8,
      "outputs": []
    },
    {
      "cell_type": "code",
      "metadata": {
        "id": "jsjEKW30EuBL"
      },
      "source": [
        "class GaussiansMixture(nn.Module):\n",
        "    def __init__(\n",
        "        self,\n",
        "        k: int\n",
        "    ):\n",
        "        super().__init__()\n",
        "\n",
        "        self.k = k\n",
        "\n",
        "    def get_parameters_number(self) -> int:\n",
        "        return 3 * self.k\n",
        "\n",
        "    def get_dist(self, params):\n",
        "        mus = params[:, :self.k]\n",
        "        alphas = params[:, self.k: 2 * self.k]\n",
        "        pis = params[:, 2 * self.k:]\n",
        "        pis_hat = F.softmax(pis, dim=1)\n",
        "        dist = Normal(mus, alphas.exp())\n",
        "        return dist, pis_hat\n",
        "\n",
        "    def get_hidden_representation(self, params, xs):\n",
        "        dist, pis_hat = self.get_dist(params)\n",
        "\n",
        "        repeated_xs = xs.reshape(-1, 1).repeat(1, self.k)\n",
        "        zs = dist.cdf(repeated_xs)\n",
        "        zs = (zs * pis_hat).sum(dim=1)\n",
        "\n",
        "        log_det = dist.log_prob(repeated_xs)\n",
        "        log_det = (log_det.exp() * pis_hat).sum(dim=1).log()\n",
        "\n",
        "        return zs, log_det\n",
        "\n",
        "    def invert(self, params, zs):\n",
        "        dist, pis_hat = self.get_dist(params)\n",
        "        repeated_zs = zs.reshape(-1, 1).repeat(1, self.k)\n",
        "        xs = dist.icdf(repeated_zs)\n",
        "        return xs[torch.arange(xs.shape[0]), Categorical(pis_hat).sample()]"
      ],
      "execution_count": 9,
      "outputs": []
    },
    {
      "cell_type": "code",
      "metadata": {
        "id": "MFUokdJVFNvJ"
      },
      "source": [
        "class LogsiticsMixture():\n",
        "    def __init__(\n",
        "        self,\n",
        "        k: int,\n",
        "    ):\n",
        "        self.k = k"
      ],
      "execution_count": 10,
      "outputs": []
    },
    {
      "cell_type": "code",
      "metadata": {
        "id": "slqn05clEFRB"
      },
      "source": [
        "class ARFlow(nn.Module):\n",
        "    def __init__(\n",
        "        self,\n",
        "        n_dim: int,\n",
        "        k_mixtures: int,\n",
        "        hidden_sizes: list,\n",
        "        mixture_type: str = 'gaussian',\n",
        "        base_distribution_type: str = 'uniform',\n",
        "        device: str = 'cuda',\n",
        "    ):\n",
        "        super().__init__()\n",
        "\n",
        "        self.n_dim = n_dim\n",
        "        self.k_mixtures = k_mixtures\n",
        "        self.mixture = GaussiansMixture(k_mixtures) if mixture_type == 'gaussian' else LogsiticsMixture(k_mixtures)\n",
        "        \n",
        "        self.base_distribution = Uniform(0, 1)\n",
        "        self.base_distribution.low = self.base_distribution.low.to(device)\n",
        "        self.base_distribution.high = self.base_distribution.high.to(device)\n",
        "\n",
        "        self.made = MADE(n_dim, [1] + hidden_sizes + [self.mixture.get_parameters_number()], device)\n",
        "\n",
        "    def get_latents(self, input):\n",
        "        output = self.made(input)\n",
        "        k = self.mixture.get_parameters_number()\n",
        "\n",
        "        zs = []\n",
        "        for i in range(self.n_dim):\n",
        "            zi, log_det_zi = self.mixture.get_hidden_representation(output[:, i * k: (i + 1) * k] , input[:, i])\n",
        "            zs.append(zi.reshape(-1, 1))\n",
        "\n",
        "        return torch.hstack(zs)\n",
        "\n",
        "    def log_prob(self, input):\n",
        "        output = self.made(input)\n",
        "        k = self.mixture.get_parameters_number()\n",
        "\n",
        "        log_pis = []\n",
        "        for i in range(self.n_dim):\n",
        "            zi, log_det_zi = self.mixture.get_hidden_representation(output[:, i * k: (i + 1) * k] , input[:, i])\n",
        "            log_pi = (self.base_distribution.log_prob(zi) + log_det_zi).reshape(-1, 1)\n",
        "            log_pis.append(log_pi)\n",
        "\n",
        "        return torch.hstack(log_pis).sum(dim=1)\n",
        "\n",
        "    def forward(self, input):\n",
        "        return -self.log_prob(input).mean()"
      ],
      "execution_count": 11,
      "outputs": []
    },
    {
      "cell_type": "code",
      "metadata": {
        "id": "NKZFGRXodoc8"
      },
      "source": [
        "def process_flow_model(flow_model, train_data, test_data, dset_id, epochs, batch_size, lr, device, calc_densities: bool = True, calc_latents: bool = True):\n",
        "    train_dataloader = DataLoader(QDataset(train_data), batch_size=batch_size, shuffle=True)\n",
        "    test_dataloader = DataLoader(QDataset(test_data), batch_size=batch_size, shuffle=False)\n",
        "    \n",
        "    optimizer = optim.Adam(flow_model.parameters(), lr=lr)\n",
        "\n",
        "    train_losses = []\n",
        "    test_losses = []\n",
        "    for epoch in tqdm(range(epochs + 1)):\n",
        "        # training\n",
        "        if epoch > 0:\n",
        "            flow_model.train()\n",
        "            for batch in train_dataloader:\n",
        "                with torch.set_grad_enabled(True):\n",
        "                    optimizer.zero_grad()\n",
        "                    input = batch.to(device).float()\n",
        "                    loss = flow_model(input)\n",
        "                    train_losses.append(loss)\n",
        "                    loss.backward()\n",
        "                    optimizer.step()\n",
        "        # testing\n",
        "        flow_model.eval()\n",
        "        test_loss = 0\n",
        "        test_size = 0\n",
        "        for batch in test_dataloader:\n",
        "            with torch.set_grad_enabled(False):\n",
        "                input = batch.to(device).float()\n",
        "                loss = flow_model(input)\n",
        "                test_loss += loss.item() * batch.shape[0]\n",
        "                test_size += batch.shape[0]\n",
        "        test_loss /= test_size\n",
        "        test_losses.append(test_loss)\n",
        "\n",
        "    densities = None\n",
        "    latents = None\n",
        "\n",
        "    if calc_densities:\n",
        "        flow_model.eval()\n",
        "        dx, dy = 0.025, 0.025\n",
        "        if dset_id == 1:  # face\n",
        "            x_lim = (-4, 4)\n",
        "            y_lim = (-4, 4)\n",
        "        elif dset_id == 2:  # two moons\n",
        "            x_lim = (-1.5, 2.5)\n",
        "            y_lim = (-1, 1.5)\n",
        "        y, x = np.mgrid[slice(y_lim[0], y_lim[1] + dy, dy),\n",
        "                        slice(x_lim[0], x_lim[1] + dx, dx)]\n",
        "        mesh_xs = torch.FloatTensor(np.stack([x, y], axis=2).reshape(-1, 2)).to(device)\n",
        "        densities = np.exp(flow_model.log_prob(mesh_xs).detach().cpu().numpy())\n",
        "        \n",
        "    if calc_latents:\n",
        "        latents = flow_model.get_latents(torch.Tensor(train_data).to(device)).detach().cpu().numpy()\n",
        "    \n",
        "    return train_losses, test_losses, densities, latents"
      ],
      "execution_count": 12,
      "outputs": []
    },
    {
      "cell_type": "code",
      "metadata": {
        "id": "BJNa6dHKpEQU"
      },
      "source": [
        "def q1_a(train_data, test_data, dset_id):\n",
        "    \"\"\"\n",
        "    train_data: An (n_train, 2) numpy array of floats in R^2\n",
        "    test_data: An (n_test, 2) numpy array of floats in R^2\n",
        "    dset_id: An identifying number of which dataset is given (1 or 2). Most likely\n",
        "                used to set different hyperparameters for different datasets, or\n",
        "                for plotting a different region of densities\n",
        "\n",
        "    Returns\n",
        "    - a (# of training iterations,) numpy array of train_losses evaluated every minibatch\n",
        "    - a (# of epochs + 1,) numpy array of test_losses evaluated once at initialization and after each epoch\n",
        "    - a numpy array of size (?,) of probabilities with values in [0, +infinity). \n",
        "        Refer to the commented hint.\n",
        "    - a numpy array of size (n_train, 2) of floats in [0,1]^2. This represents \n",
        "        mapping the train set data points through our flow to the latent space. \n",
        "    \"\"\"\n",
        "    \n",
        "    device = 'cuda'\n",
        "    epochs = 100\n",
        "    batch_size = 100\n",
        "    lr = 5e-3\n",
        "    k_mixtures = 5\n",
        "    hidden_sizes = [16, 16, 16]\n",
        "    n_dim = 2\n",
        "\n",
        "    ar_flow = ARFlow(n_dim, k_mixtures, hidden_sizes, device=device).to(device)\n",
        "\n",
        "    return process_flow_model(ar_flow, train_data, test_data, dset_id, epochs, batch_size, lr, device)"
      ],
      "execution_count": 13,
      "outputs": []
    },
    {
      "cell_type": "markdown",
      "metadata": {
        "id": "SiGBSP-ESeIj"
      },
      "source": [
        "### Results\n",
        "\n",
        "Once you've implemented `q1_a`, execute the cells below to visualize and save your results\n",
        "\n"
      ]
    },
    {
      "cell_type": "code",
      "metadata": {
        "id": "qjK_KReXsqYa"
      },
      "source": [
        "# q1_save_results(1, 'a', q1_a)"
      ],
      "execution_count": 14,
      "outputs": []
    },
    {
      "cell_type": "code",
      "metadata": {
        "id": "uS4CtXRxX_Uk"
      },
      "source": [
        "# q1_save_results(2, 'a', q1_a)"
      ],
      "execution_count": 15,
      "outputs": []
    },
    {
      "cell_type": "markdown",
      "metadata": {
        "id": "DiyFXlj0rfcr"
      },
      "source": [
        "## Part (b) RealNVP [15pt]\n",
        "In this part, we want to train a flow with the following structure: \n",
        "$(z_1, z_2) = (f_{\\theta, 1} \\circ \\cdots \\circ f_{\\theta, n})$, \n",
        "where each $f_{\\theta, i}$ is an affine transformation of 1 dimension, conditioned on the other, and $z \\sim N(0, I)$. According to [Density Estimation Using Real NVP](https://arxiv.org/abs/1605.08803) Section 4.1, there's a particularly good way to parameterize the affine transformation:\n",
        "\n",
        "Assuming that we're conditioning on $x_1$ and transforming $x_2$, we have \n",
        "\n",
        "- $z_1 = x_1$\n",
        "\n",
        "- $ \\text{log_scale} = \\text{scale} \\times tanh(g_{\\theta, \\text{scale}}(x_1)) + \\text{scale_shift}$\n",
        "\n",
        "- $z_2 = exp(\\text{log_scale}) \\times x_2 + g_{\\theta, \\text{shift}}(x_1)$\n",
        "\n",
        "where $g_\\theta$, $\\text{scale}$, and $\\text{scale_shift}$ are all learned parameters.\n",
        "\n",
        "\n",
        "**Train a RealNVP model and provide the same set of corresponding deliverables as part (a)**"
      ]
    },
    {
      "cell_type": "markdown",
      "metadata": {
        "id": "f4dnQIg_TDx6"
      },
      "source": [
        "### Solution\n",
        "Fill out the function below and return the necessary arguments. Feel free to create more cells if need be."
      ]
    },
    {
      "cell_type": "code",
      "metadata": {
        "id": "9yC2fYM-J3g5"
      },
      "source": [
        "class AffineTransform(nn.Module):\n",
        "    def __init__(self, reversed: bool = False):\n",
        "        super().__init__()\n",
        "        self.g = nn.Sequential(\n",
        "            nn.Linear(1, 200),\n",
        "            nn.ReLU(),\n",
        "            nn.Linear(200, 200),\n",
        "            nn.ReLU(),\n",
        "            nn.Linear(200, 200),\n",
        "            nn.ReLU(),\n",
        "            nn.Linear(200, 2)\n",
        "        )\n",
        "        self.scale = nn.Parameter(torch.zeros(1), requires_grad=True)\n",
        "        self.scale_shift = nn.Parameter(torch.zeros(1), requires_grad=True)\n",
        "        self.reversed = reversed\n",
        "\n",
        "    def forward(self, input):\n",
        "        x1, x2 = input[:, 0].reshape(-1, 1), input[:, 1].reshape(-1, 1)\n",
        "        if self.reversed:\n",
        "            x1, x2 = x2, x1\n",
        "        z1 = x1\n",
        "        g_output = self.g(x1)\n",
        "        scale, shift = g_output[:, 0].reshape(-1, 1), g_output[:, 1].reshape(-1, 1)\n",
        "        log_scale = self.scale * torch.tanh(scale) + self.scale_shift\n",
        "        z2 = log_scale.exp() * x2 + shift\n",
        "        z = torch.hstack([z1, z2])\n",
        "        log_det = log_scale\n",
        "        return z, log_det"
      ],
      "execution_count": 16,
      "outputs": []
    },
    {
      "cell_type": "code",
      "metadata": {
        "id": "Ro77CXxkAU4a"
      },
      "source": [
        "class RealNVP(nn.Module):\n",
        "    def __init__(self, k_compositions: int):\n",
        "        super().__init__()\n",
        "        self.k_compositions = k_compositions\n",
        "        self.transforms = nn.Sequential(*[AffineTransform(i % 2 == 1) for i in range(k_compositions)])\n",
        "        self.base_dist = Normal(0, 1)\n",
        "    \n",
        "    def _forward(self, input):\n",
        "        z, log_det = input, torch.zeros(input.shape[0], 1).to(input.device)\n",
        "        for affine in self.transforms:\n",
        "            _z, _log_det = affine(z)\n",
        "            z = _z\n",
        "            log_det += _log_det\n",
        "        return z, log_det\n",
        "\n",
        "    def forward(self, input):\n",
        "        return -self.log_prob(input).mean()\n",
        "    \n",
        "    def get_latents(self, input):\n",
        "        return self._forward(input)[0]\n",
        "\n",
        "    def log_prob(self, input):\n",
        "        z, log_det = self._forward(input)\n",
        "        return self.base_dist.log_prob(z).sum(dim=1) + log_det.reshape(-1)"
      ],
      "execution_count": 17,
      "outputs": []
    },
    {
      "cell_type": "code",
      "metadata": {
        "id": "uAvMQDJJrjNo"
      },
      "source": [
        "def q1_b(train_data, test_data, dset_id):\n",
        "    \"\"\"\n",
        "    train_data: An (n_train, 2) numpy array of floats in R^2\n",
        "    test_data: An (n_test, 2) numpy array of floats in R^2\n",
        "    dset_id: An identifying number of which dataset is given (1 or 2). Most likely\n",
        "                used to set different hyperparameters for different datasets, or\n",
        "                for plotting a different region of densities\n",
        "\n",
        "    Returns\n",
        "    - a (# of training iterations,) numpy array of train_losses evaluated every minibatch\n",
        "    - a (# of epochs + 1,) numpy array of test_losses evaluated once at initialization and after each epoch\n",
        "    - a numpy array of size (?,) of probabilities with values in [0, +infinity). \n",
        "        Refer to the commented hint.\n",
        "    - a numpy array of size (n_train, 2) of floats in R^2. This represents \n",
        "        mapping the train set data points through our flow to the latent space. \n",
        "    \"\"\"\n",
        "    \n",
        "    device = 'cuda'\n",
        "    epochs = 300\n",
        "    batch_size = 100\n",
        "    lr = 4e-3\n",
        "    k_compositions = 8\n",
        "    n_dim = 2\n",
        "\n",
        "    real_nvp = RealNVP(k_compositions).to(device)\n",
        "\n",
        "    return process_flow_model(real_nvp, train_data, test_data, dset_id, epochs, batch_size, lr, device)"
      ],
      "execution_count": 18,
      "outputs": []
    },
    {
      "cell_type": "markdown",
      "metadata": {
        "id": "VwZyhlewTHH4"
      },
      "source": [
        "### Results\n",
        "\n",
        "Once you've implemented `q1_b`, execute the cells below to visualize and save your results\n",
        "\n"
      ]
    },
    {
      "cell_type": "code",
      "metadata": {
        "id": "wnnQORaG6Ouf"
      },
      "source": [
        "# q1_save_results(1, 'b', q1_b)"
      ],
      "execution_count": 19,
      "outputs": []
    },
    {
      "cell_type": "code",
      "metadata": {
        "id": "zz8DdjFTYJpH"
      },
      "source": [
        "# q1_save_results(2, 'b', q1_b)"
      ],
      "execution_count": 20,
      "outputs": []
    },
    {
      "cell_type": "markdown",
      "metadata": {
        "id": "bk6l6G30tEIg"
      },
      "source": [
        "# Question 2: Autoregressive Flows for Images [20pt]\n",
        "We can scale up the autoregressive flows from 1(a) to high-dimensional image data. In this question, we will focus on the black-and-white shapes dataset from Homework 1."
      ]
    },
    {
      "cell_type": "code",
      "metadata": {
        "id": "alF9C1t-tEys",
        "colab": {
          "base_uri": "https://localhost:8080/",
          "height": 264
        },
        "outputId": "d996cc49-4b09-4ea9-b4e4-875493f2d841"
      },
      "source": [
        "visualize_q2_data()"
      ],
      "execution_count": 21,
      "outputs": [
        {
          "output_type": "display_data",
          "data": {
            "image/png": "[encoded data removed]",
            "text/plain": [
              "<Figure size 432x288 with 1 Axes>"
            ]
          },
          "metadata": {
            "tags": [],
            "needs_background": "light"
          }
        }
      ]
    },
    {
      "cell_type": "markdown",
      "metadata": {
        "id": "sDywq5JZR4Eg"
      },
      "source": [
        "Adapt your PixelCNN implementation from Homework 1 and use it as an autoregressive flow model on the black-and-white shapes dataset. Using the base architecture from Homework 1 3(a), output a mixture of logistics or gaussians (instead of logits), whose CDF we will use as our flow for each dimension of x. \n",
        "\n",
        "Remember: you must dequantize the data and scale it between 0 and 1 for the autoregressive flow to have stable training. \n",
        "\n",
        "**You will provide these deliverables**\n",
        "\n",
        "1.   Over the course of training, record the average negative log-likelihood (nats / dim) of the training data (per minibatch) and test data (for your entire test set). Code is provided that automatically plots the training curves. **Make sure to account for any rescaling you do in your nats/dim.**\n",
        "2.   Report the final test set performance of your final model\n",
        "3. 100 samples from your autoregressive flow. Our plotting code will show your samples, with and without clipping and flooring (to remove the quantization). \n"
      ]
    },
    {
      "cell_type": "markdown",
      "metadata": {
        "id": "fHHxHqSJTSAa"
      },
      "source": [
        "### Solution\n",
        "Fill out the function below and return the necessary arguments. Feel free to create more cells if need be."
      ]
    },
    {
      "cell_type": "code",
      "metadata": {
        "id": "RhPdneiC-JQT"
      },
      "source": [
        "class MaskedConv2d(nn.Conv2d):\n",
        "    def __init__(\n",
        "        self, \n",
        "        type: str,\n",
        "        in_channels: int,\n",
        "        out_channels: int,\n",
        "        kernel_size,\n",
        "        stride,\n",
        "        padding\n",
        "    ):\n",
        "        super().__init__(in_channels, out_channels, kernel_size, stride, padding)\n",
        "        self.mask = self.build_mask(type)\n",
        "\n",
        "    def build_mask(self, type):\n",
        "        n, m = self.kernel_size\n",
        "        assert n % 2 == 1 and m % 2 == 1\n",
        "        mask = nn.Parameter(torch.zeros(n, m), requires_grad=False)\n",
        "        mask[0: n // 2, :] = 1\n",
        "        mask[n // 2, 0: m // 2] = 1\n",
        "        if type == 'B':\n",
        "            mask[n // 2, m // 2] = 1\n",
        "        return mask\n",
        "\n",
        "    def forward(self, input):\n",
        "        return self._conv_forward(input, self.weight * self.mask)"
      ],
      "execution_count": 22,
      "outputs": []
    },
    {
      "cell_type": "code",
      "metadata": {
        "id": "GmM_NkJn2D1A"
      },
      "source": [
        "class PixelCNN(nn.Module):\n",
        "    def __init__(self, final_out_channels):\n",
        "        super().__init__()\n",
        "\n",
        "        self.layers = nn.Sequential(\n",
        "            MaskedConv2d('A', 1, 64, 7, 1, 3),\n",
        "            nn.ReLU(),\n",
        "\n",
        "            nn.Sequential(\n",
        "                MaskedConv2d('B', 64, 64, 7, 1, 3),\n",
        "                nn.ReLU(),\n",
        "                MaskedConv2d('B', 64, 64, 7, 1, 3),\n",
        "                nn.ReLU(),\n",
        "                MaskedConv2d('B', 64, 64, 7, 1, 3),\n",
        "                nn.ReLU(),\n",
        "                MaskedConv2d('B', 64, 64, 7, 1, 3),\n",
        "                nn.ReLU(),\n",
        "                MaskedConv2d('B', 64, 64, 7, 1, 3),\n",
        "                nn.ReLU()\n",
        "            ),\n",
        "\n",
        "            nn.Sequential(\n",
        "                MaskedConv2d('B', 64, 64, 1, 1, 0),\n",
        "                nn.ReLU(),\n",
        "                MaskedConv2d('B', 64, final_out_channels, 1, 1, 0)\n",
        "            )\n",
        "        )\n",
        "\n",
        "    def forward(self, input):\n",
        "        return self.layers(input)"
      ],
      "execution_count": 23,
      "outputs": []
    },
    {
      "cell_type": "code",
      "metadata": {
        "id": "TGnFoPdCB6KY"
      },
      "source": [
        "class PixelCNNArFlow(nn.Module):\n",
        "    def __init__(self, H, W, k_mixtures: int, mixture_type: str = 'gaussian'):\n",
        "        super().__init__()\n",
        "        self.H = H\n",
        "        self.W = W\n",
        "        self.mixture = GaussiansMixture(k_mixtures) if mixture_type == 'gaussian' else LogsiticsMixture(k_mixtures)\n",
        "        self.pixel_cnn = PixelCNN(self.mixture.get_parameters_number())\n",
        "\n",
        "        self.base_distribution = Uniform(0, 1)\n",
        "\n",
        "    def log_prob(self, input):\n",
        "        self.base_distribution.low = self.base_distribution.low.to(input.device)\n",
        "        self.base_distribution.high = self.base_distribution.high.to(input.device)\n",
        "\n",
        "        x = input.reshape(-1, 1, self.H, self.W)\n",
        "        output = self.pixel_cnn(x)\n",
        "\n",
        "        n_channels = output.shape[1]\n",
        "        output = output.permute(0, 2, 3, 1).reshape(-1, n_channels)\n",
        "        x = x.permute(0, 2, 3, 1).reshape(-1)\n",
        "\n",
        "        zi, log_det_zi = self.mixture.get_hidden_representation(output, x)\n",
        "        log_pi = (self.base_distribution.log_prob(zi) + log_det_zi).reshape(-1, self.H * self.W)\n",
        "    \n",
        "        return log_pi.mean(dim=1)\n",
        "\n",
        "    def forward(self, input):\n",
        "        return -self.log_prob(input).mean()\n",
        "\n",
        "    def sample(self, n, device: str = 'cuda'):\n",
        "        self.base_distribution.low = self.base_distribution.low.to(device)\n",
        "        self.base_distribution.high = self.base_distribution.high.to(device)\n",
        "        self.eval().to(device)\n",
        "        x = torch.randn(n, 1, self.H, self.W).to(device)\n",
        "        z = self.base_distribution.expand(torch.Size([n, self.H, self.W])).sample().to(device)\n",
        "        with torch.set_grad_enabled(False):\n",
        "            for i in range(self.H):\n",
        "                for j in range(self.W):\n",
        "                    output = self.pixel_cnn(x)\n",
        "                    params = output[:, :, i, j]\n",
        "                    x_ij = self.mixture.invert(params, z[:, i, j])\n",
        "                    x[:, 0, i, j] = x_ij\n",
        "        return x[:, 0, :, :]"
      ],
      "execution_count": 24,
      "outputs": []
    },
    {
      "cell_type": "code",
      "metadata": {
        "id": "wtFZU2ymB6_t"
      },
      "source": [
        "def q2(train_data, test_data):\n",
        "    \"\"\"\n",
        "    train_data: A (n_train, H, W, 1) uint8 numpy array of binary images with values in {0, 1}\n",
        "    test_data: A (n_test, H, W, 1) uint8 numpy array of binary images with values in {0, 1}\n",
        "    H = W = 20\n",
        "    Note that you should dequantize your train and test data, your dequantized pixels should all lie in [0,1]\n",
        "\n",
        "    Returns\n",
        "    - a (# of training iterations,) numpy array of train_losses evaluated every minibatch\n",
        "    - a (# of epochs + 1,) numpy array of test_losses evaluated once at initialization and after each epoch\n",
        "    - a numpy array of size (100, H, W, 1) of samples with values in [0, 1], where [0,0.5] represents a black pixel\n",
        "        and [0.5,1] represents a white pixel. We will show your samples with and without noise. \n",
        "    \"\"\"\n",
        "\n",
        "    H, W = train_data.shape[1: 3]\n",
        "\n",
        "    device = 'cuda'\n",
        "    epochs = 20\n",
        "    batch_size = 128\n",
        "    lr = 1e-3\n",
        "    n_dim = H * W\n",
        "    k_mixtures = 10\n",
        "\n",
        "    train_data = train_data.reshape(-1, n_dim).astype(float) / 2\n",
        "    test_data = test_data.reshape(-1, n_dim).astype(float) / 2\n",
        "\n",
        "    train_data += np.random.uniform(0, 0.5, size=train_data.shape)\n",
        "    test_data += np.random.uniform(0, 0.5, size=test_data.shape)\n",
        "\n",
        "    pixel_cnn_ar_flow = PixelCNNArFlow(H, W, k_mixtures).to(device)\n",
        "    train_losses, test_losses, _, _ = process_flow_model(pixel_cnn_ar_flow, train_data, test_data, 1, epochs, batch_size, lr, device, calc_densities=False, calc_latents=False)\n",
        "    imgs = pixel_cnn_ar_flow.sample(100).unsqueeze(dim=3).detach().cpu().numpy()\n",
        "\n",
        "    return train_losses, test_losses, imgs"
      ],
      "execution_count": 25,
      "outputs": []
    },
    {
      "cell_type": "markdown",
      "metadata": {
        "id": "Iso12bj4Tup8"
      },
      "source": [
        "### Results\n",
        "\n",
        "Once you've implemented `q2`, execute the cells below to visualize and save your results\n",
        "\n"
      ]
    },
    {
      "cell_type": "code",
      "metadata": {
        "id": "njfGrZ74Jm2d"
      },
      "source": [
        "# q2_save_results(q2)"
      ],
      "execution_count": 26,
      "outputs": []
    },
    {
      "cell_type": "markdown",
      "metadata": {
        "id": "dP8lmmk7Xrct"
      },
      "source": [
        "# Question 3: RealNVP on Higher Dimensions\n"
      ]
    },
    {
      "cell_type": "markdown",
      "metadata": {
        "id": "4wnyhDNqcAcw"
      },
      "source": [
        "In this problem, you will train a flow model to invertibly map a high dimensional dataset of celebrity\n",
        "faces to gaussian noise. The dataset is a low-resolution (32 × 32) version of the CelebA-HQ dataset that has been quantized to 2 bits per color channel.\n",
        "\n"
      ]
    },
    {
      "cell_type": "code",
      "metadata": {
        "id": "ysoGwlFaftC1",
        "colab": {
          "base_uri": "https://localhost:8080/",
          "height": 264
        },
        "outputId": "09c2634b-bb8b-4b38-f7e9-f6dbd1998458"
      },
      "source": [
        "visualize_q3_data()"
      ],
      "execution_count": 27,
      "outputs": [
        {
          "output_type": "display_data",
          "data": {
            "image/png": "[encoded data removed]",
            "text/plain": [
              "<Figure size 432x288 with 1 Axes>"
            ]
          },
          "metadata": {
            "tags": [],
            "needs_background": "light"
          }
        }
      ]
    },
    {
      "cell_type": "markdown",
      "metadata": {
        "id": "iEMfKiqmfzJp"
      },
      "source": [
        "## Part (a): RealNVP [40pt]"
      ]
    },
    {
      "cell_type": "markdown",
      "metadata": {
        "id": "ZSGU6Mz3ftZe"
      },
      "source": [
        "Use the affine coupling flow from RealNVP and a form of [data-dependent initialization](https://arxiv.org/abs/1602.07868) that normalizes activations from an initial forward pass with a minibatch.\n",
        "We describe a reference architecture below that can achieve good performance, but you are free\n",
        "and encouraged to use different architectures and/or structure your code differently."
      ]
    },
    {
      "cell_type": "markdown",
      "metadata": {
        "id": "QO6i0oY5CBGh"
      },
      "source": [
        "\n",
        "\n",
        "```\n",
        "Preprocess() # dequantization, logit trick from RealNVP (Dinh et al) Section 4.1\n",
        "\n",
        "for _ in range(4):\n",
        "  AffineCouplingWithCheckerboard() # Figure 3 in Dinh et al - (left)\n",
        "  ActNorm() # described in Glow (Kingma & Dhariwal) Section 3.1\n",
        "Squeeze(), # [b, c, h, w] --> [b, c*4, h//2, w//2]\n",
        "\n",
        "for _ in range(3):\n",
        "  AffineCouplingWithChannel()\n",
        "  ActNorm()\n",
        "Unsqueeze(), # [b, c*4, h//2, w//2] --> [b, c, h, w]\n",
        "\n",
        "for _ in range(3):\n",
        "  AffineCouplingWithCheckerboard()\n",
        "  ActNorm()\n",
        "```\n",
        "\n"
      ]
    },
    {
      "cell_type": "markdown",
      "metadata": {
        "id": "TX1Kyl8EBF45"
      },
      "source": [
        "Here, we provide pseudocode for the basic structure of each coupling layer. "
      ]
    },
    {
      "cell_type": "markdown",
      "metadata": {
        "id": "FyCXu1PSrIUb"
      },
      "source": [
        "\n",
        "\n",
        "```\n",
        "# pseudocode\n",
        "ResnetBlock: n_filters\n",
        "  h = x\n",
        "  h = conv2d(n_filters, n_filters, (1,1), stride=1, padding=0)(h)\n",
        "  h = relu(h)\n",
        "  h = conv2d(n_filters, n_filters, (3,3), stride=1, padding=1)(h)\n",
        "  h = relu(h)\n",
        "  h = conv2d(n_filters, n_filters, (1,1), stride=1, padding=0)(h)\n",
        "  return h + x\n",
        "\n",
        "SimpleResnet: n_filters = 128, n_blocks = 8, n_out\n",
        "  conv2d(in_channels, n_filters=n_filters, (3,3), stride=1, padding=1)\n",
        "  apply 8 ResnetBlocks with n_filters=n_filters\n",
        "  relu()\n",
        "  conv2d(in_channels=n_filters, out_channels=n_out, (3,3), stride=1, padding=1)\n",
        "  \n",
        "AffineCoupling(x, mask):\n",
        "  x_ = x * mask\n",
        "  log_s, t = torch.chunk(SimpleResnet(x_), 2, dim=1)\n",
        "  # calculate log_scale, as done in Q1(b)\n",
        "  t = t * (1.0 - mask)\n",
        "  log_scale = log_scale * (1.0 - mask)\n",
        "  z = x * torch.exp(log_scale) + t\n",
        "  log_det_jacobian = log_scale\n",
        "  return z, log_det_jacobian\n",
        "```\n",
        "\n"
      ]
    },
    {
      "cell_type": "markdown",
      "metadata": {
        "id": "rT4Mi1PlBb5B"
      },
      "source": [
        "We use an Adam Optimizer with a warmup over 200 steps till a learning rate of 5e-4. We didn’t decay the learning rate but it is a generally recommended practice while training generative models. We show samples from our model at the end of training, as well as interpolations between several images in our dataset.  Our reference solution achieves a test loss of about 0.55 bits/dim after 100 epochs. \n",
        "\n"
      ]
    },
    {
      "cell_type": "markdown",
      "metadata": {
        "id": "50WsEzhx4Uua"
      },
      "source": [
        "**You will provide these deliverables**\n",
        "\n",
        "\n",
        "1.   Over the course of training, record the average negative log-likelihood (nats / dim) of the training data (per minibatch) and test data (for your entire test set). Code is provided that automatically plots the training curves. \n",
        "2.   Report the final test set performance of your final model\n",
        "3. 100 samples from the final trained model\n",
        "4. 5 rows of interpolations between images in the test set; each row consists of the start and end images, and 4 intermediate ones. You should return 30 total images. \n",
        "\n"
      ]
    },
    {
      "cell_type": "markdown",
      "metadata": {
        "id": "EleefdNuciyc"
      },
      "source": [
        "### Solution\n",
        "Fill out the function below and return the necessary arguments. Feel free to create more cells if need be."
      ]
    },
    {
      "cell_type": "code",
      "metadata": {
        "id": "un4xeAvJhne1"
      },
      "source": [
        "class ResNetBlock(nn.Module):\n",
        "    def __init__(self, n_filters):\n",
        "        super().__init__()\n",
        "        self.block = nn.Sequential(\n",
        "            nn.Conv2d(n_filters, n_filters, 1, 1, 0),\n",
        "            nn.ReLU(),\n",
        "            nn.Conv2d(n_filters, n_filters, 3, 1, 1),\n",
        "            nn.ReLU(),\n",
        "            nn.Conv2d(n_filters, n_filters, 1, 1, 0)\n",
        "        )\n",
        "\n",
        "    def forward(self, x):\n",
        "        return self.block(x) + x"
      ],
      "execution_count": 28,
      "outputs": []
    },
    {
      "cell_type": "code",
      "metadata": {
        "id": "BYWrLRhEiLrL"
      },
      "source": [
        "class SimpleResNet(nn.Module):\n",
        "    def __init__(self, n_out, in_channels=3, n_filters=128, n_blocks=8):\n",
        "        super().__init__()\n",
        "        self.model = nn.Sequential(\n",
        "            nn.Conv2d(in_channels, n_filters, 3, 1, 1),\n",
        "            nn.Sequential(*[ResNetBlock(n_filters) for _ in range(n_blocks)]),\n",
        "            nn.ReLU(),\n",
        "            nn.Conv2d(n_filters, n_out, 3, 1, 1)\n",
        "        )\n",
        "    \n",
        "    def forward(self, x):\n",
        "        return self.model(x)"
      ],
      "execution_count": 117,
      "outputs": []
    },
    {
      "cell_type": "code",
      "metadata": {
        "id": "Zo2fuS1Nl9VV"
      },
      "source": [
        "class AffineCoupling(nn.Module):\n",
        "    def __init__(self, c: int, h: int, w: int, mask_type: str, invert: bool = False):\n",
        "        super().__init__()\n",
        "        self.resnet = SimpleResNet(c * 2, in_channels=c)\n",
        "        self.scale = nn.Parameter(torch.zeros(1), requires_grad=True)\n",
        "        self.scale_shift = nn.Parameter(torch.zeros(1), requires_grad=True)\n",
        "        self.mask = nn.Parameter({\n",
        "            'checkerboard': self.build_checkerboard_mask,\n",
        "            'channel_wise': self.build_channel_wise_mask\n",
        "        }[mask_type](c, h, w), requires_grad=False)\n",
        "        if invert:\n",
        "            self.mask.data = torch.ones_like(self.mask.data) - self.mask.data\n",
        "\n",
        "    def build_checkerboard_mask(self, c, h, w):\n",
        "        mask = (np.arange(h).reshape(-1, 1) + np.arange(w).reshape(1, -1)) % 2\n",
        "        mask = torch.Tensor(mask).repeat(c, 1, 1).float()\n",
        "        return mask\n",
        "    \n",
        "    def build_channel_wise_mask(self, c, h, w):\n",
        "        mask = torch.zeros(c, h, w)\n",
        "        mask[: c // 2, :, :] = 1\n",
        "        return mask\n",
        "\n",
        "    def forward(self, x, reverse: bool = False):\n",
        "        B = x.shape[0]\n",
        "        x_ = x * self.mask\n",
        "        log_s, t = torch.chunk(self.resnet(x_), 2, dim=1)\n",
        "        log_scale = self.scale * torch.tanh(log_s) + self.scale_shift\n",
        "        t = t * (1.0 - self.mask)\n",
        "        log_scale = log_scale * (1.0 - self.mask)\n",
        "        if reverse:\n",
        "            z = (x - t) * (-log_scale).exp()\n",
        "        else:\n",
        "            z = x * log_scale.exp() + t\n",
        "        log_det_jacobian = log_scale\n",
        "        return z, log_det_jacobian"
      ],
      "execution_count": 121,
      "outputs": []
    },
    {
      "cell_type": "code",
      "metadata": {
        "id": "4wxPXkp10t-j"
      },
      "source": [
        "class ActNorm(nn.Module):\n",
        "    def __init__(self, n_channels: int):\n",
        "        super().__init__()\n",
        "        self.is_inited = False\n",
        "        self.n_channels = n_channels\n",
        "        self.log_scale = nn.Parameter(torch.zeros(1, n_channels, 1, 1).float(), requires_grad=True)\n",
        "        self.shift = nn.Parameter(torch.zeros(1, n_channels, 1, 1).float(), requires_grad=True)\n",
        "    \n",
        "    def forward(self, x, reverse: bool = False):\n",
        "        if reverse:\n",
        "            return (x - self.shift) * (-self.log_scale).exp(), self.log_scale\n",
        "        else:\n",
        "            if not self.is_inited:\n",
        "                self.is_inited = True\n",
        "                self.shift.data = -x.mean(dim=[0, 2, 3], keepdim=True)\n",
        "                self.log_scale.data = -(x.std(dim=[0, 2, 3], keepdim=True).log())\n",
        "            return x * self.log_scale.exp() + self.shift, self.log_scale"
      ],
      "execution_count": 122,
      "outputs": []
    },
    {
      "cell_type": "code",
      "metadata": {
        "id": "lDbetbFO3fyk"
      },
      "source": [
        "class LogitTrick(nn.Module):\n",
        "    def __init__(self, alpha: float):\n",
        "        super().__init__()\n",
        "        self.alpha = nn.Parameter(torch.ones(1) * alpha, requires_grad=False)\n",
        "\n",
        "    def forward(self, x, reverse: bool = False):\n",
        "        if reverse:\n",
        "            sigma = torch.sigmoid(x)\n",
        "            log_det = 2 * F.logsigmoid(x) - x - torch.log(1 - self.alpha)\n",
        "            return (sigma - self.alpha) / (1 - self.alpha), log_det\n",
        "        else:\n",
        "            p = self.alpha + (1 - self.alpha) * x\n",
        "            log_det = torch.log(torch.abs(1 - 2 * p)) - torch.log(p) - torch.log(1 - p) + torch.log(1 - self.alpha)\n",
        "            return torch.logit(p), log_det"
      ],
      "execution_count": 123,
      "outputs": []
    },
    {
      "cell_type": "code",
      "metadata": {
        "id": "VOguM1UajRkq"
      },
      "source": [
        "class CelebDataset(Dataset):\n",
        "    def __init__(self, data):\n",
        "        super().__init__()\n",
        "        self.data = data.transpose(0, 3, 1, 2).astype(float)\n",
        "        self.data = self.data / 4 + np.random.uniform(0, 0.25, size=self.data.shape)\n",
        "    \n",
        "    def __len__(self):\n",
        "        return len(self.data)\n",
        "\n",
        "    def __getitem__(self, id):\n",
        "        return self.data[id]"
      ],
      "execution_count": 124,
      "outputs": []
    },
    {
      "cell_type": "code",
      "metadata": {
        "id": "N9gc5fCU5Y53"
      },
      "source": [
        "class RealNVP4IMG(nn.Module):\n",
        "    def __init__(self):\n",
        "        super().__init__()\n",
        "        self.base_dist = Normal(0, 1)\n",
        "        self.f1 = nn.ModuleList([LogitTrick(0.05)])\n",
        "        self.f2 = nn.ModuleList()\n",
        "        self.f3 = nn.ModuleList()\n",
        "        for i in range(4):\n",
        "            self.f1.append(AffineCoupling(3, 32, 32, 'checkerboard', invert=i % 2 == 0))\n",
        "            self.f1.append(ActNorm(3))\n",
        "        for i in range(3):\n",
        "            self.f2.append(AffineCoupling(12, 16, 16, 'channel_wise', invert=i % 2 == 0))\n",
        "            self.f2.append(ActNorm(12))\n",
        "        for i in range(3):\n",
        "            self.f3.append(AffineCoupling(3, 32, 32, 'checkerboard', invert=i % 2 == 0))\n",
        "            self.f3.append(ActNorm(3))\n",
        "\n",
        "    def squeeze(self, x):\n",
        "        B, C, H, W = x.shape\n",
        "        x00 = x[:, :, 0::2, 0::2]\n",
        "        x01 = x[:, :, 0::2, 1::2]\n",
        "        x10 = x[:, :, 1::2, 0::2]\n",
        "        x11 = x[:, :, 1::2, 1::2]\n",
        "        return torch.stack([x00, x01, x10, x11], dim=2).reshape(B, 4 * C, H // 2, W // 2)\n",
        "    \n",
        "    def unsqueeze(self, x):\n",
        "        B, C, H, W = x.shape\n",
        "        y = x.reshape(B, C // 4, 4, H, W)\n",
        "        x = x.reshape(B, C // 4, H * 2, W * 2)\n",
        "        x[:, :, 0::2, 0::2] = y[:, :, 0, :, :]\n",
        "        x[:, :, 0::2, 1::2] = y[:, :, 1, :, :]\n",
        "        x[:, :, 1::2, 0::2] = y[:, :, 2, :, :]\n",
        "        x[:, :, 1::2, 1::2] = y[:, :, 3, :, :]\n",
        "        return x\n",
        "    \n",
        "    def _forward(self, x):\n",
        "        sum_log_det = torch.zeros_like(x)\n",
        "        for f in self.f1:\n",
        "            x, log_det = f(x)\n",
        "            sum_log_det += log_det\n",
        "        x, sum_log_det = self.squeeze(x), self.squeeze(sum_log_det)\n",
        "        for f in self.f2:\n",
        "            x, log_det = f(x)\n",
        "            sum_log_det += log_det\n",
        "        x, sum_log_det = self.unsqueeze(x), self.unsqueeze(sum_log_det)\n",
        "        for f in self.f3:\n",
        "            x, log_det = f(x)\n",
        "            sum_log_det += log_det\n",
        "        return x, sum_log_det\n",
        "\n",
        "    def forward(self, x):\n",
        "        B, C, H, W = x.shape\n",
        "        return -self.log_prob(x).mean() / C / H / W\n",
        "\n",
        "    def log_prob(self, x):\n",
        "        z, log_det = self._forward(x)\n",
        "        return self.base_dist.log_prob(z).sum(dim=[1, 2, 3]) + log_det.sum(dim=[1, 2, 3])\n",
        "\n",
        "    def reverse(self, z):\n",
        "        for f in reversed(self.f3):\n",
        "            z, _ = f(z, reverse=True)\n",
        "        z = self.squeeze(z)\n",
        "        for f in reversed(self.f2):\n",
        "            z, _ = f(z, reverse=True)\n",
        "        z = self.unsqueeze(z)\n",
        "        for f in reversed(self.f1):\n",
        "            z, _ = f(z, reverse=True)\n",
        "            \n",
        "        return z.detach().cpu().permute(0, 2, 3, 1).numpy()\n",
        "        \n",
        "    def sample(self, n, c, h, w, device: str):\n",
        "        z = self.base_dist.expand(torch.Size([n, c, h, w])).sample().to(device)\n",
        "        x = self.reverse(z)\n",
        "        return x\n",
        "\n",
        "    def interpolate(self, n, l, c, h, w, device: str):\n",
        "        z_from = self.base_dist.expand(torch.Size([n, c, h, w])).sample()\n",
        "        z_to = self.base_dist.expand(torch.Size([n, c, h, w])).sample()\n",
        "        direction = (z_to - z_from) / (l - 1)\n",
        "        xs = []\n",
        "        for i in range(0, l):\n",
        "            z = (z_from + direction * i).to(device)\n",
        "            x = self.reverse(z)\n",
        "            xs.append(x)\n",
        "        return np.stack(xs, axis=1).reshape(n * l, h, w, c)"
      ],
      "execution_count": 125,
      "outputs": []
    },
    {
      "cell_type": "code",
      "metadata": {
        "id": "fliSDwXCkhff"
      },
      "source": [
        "def train_real_nvp_4_img(\n",
        "    train_data: np.ndarray,\n",
        "    test_data: np.ndarray,\n",
        "\n",
        "    epochs: int = 10,\n",
        "    lr: float = 1e-3,\n",
        "    batch_size: int = 32,\n",
        "    device: str = 'cuda',\n",
        "):\n",
        "    real_nvp = RealNVP4IMG().to(device)\n",
        "\n",
        "    train_dataset = CelebDataset(train_data)\n",
        "    test_dataset = CelebDataset(test_data)\n",
        "\n",
        "    train_dataloader = DataLoader(dataset=train_dataset, batch_size=batch_size, shuffle=True)\n",
        "    test_dataloader = DataLoader(dataset=test_dataset, batch_size=batch_size, shuffle=False)\n",
        "\n",
        "    optimizer = optim.Adam(real_nvp.parameters(), lr=lr)\n",
        "\n",
        "    train_losses = []\n",
        "    test_losses = []\n",
        "\n",
        "    for epoch in tqdm(range(epochs)):\n",
        "        # training\n",
        "        real_nvp.train()\n",
        "        for batch in tqdm(train_dataloader):\n",
        "            input = batch.float().to(device)\n",
        "            with torch.set_grad_enabled(True):\n",
        "                optimizer.zero_grad()\n",
        "                loss = real_nvp(input)\n",
        "                loss.backward()\n",
        "                optimizer.step()\n",
        "                train_losses.append(loss.item())\n",
        "        # evaluating\n",
        "        real_nvp.eval()\n",
        "        test_loss = 0\n",
        "        test_size = 0\n",
        "        for batch in tqdm(test_dataloader):\n",
        "            input = batch.float().to(device)\n",
        "            with torch.set_grad_enabled(False):\n",
        "                loss = real_nvp(input)\n",
        "                test_loss += loss.item() * input.shape[0]\n",
        "                test_size += input.shape[0]\n",
        "        test_loss /= test_size\n",
        "        test_losses.append(test_loss)\n",
        "    \n",
        "    return train_losses, test_losses, real_nvp"
      ],
      "execution_count": 132,
      "outputs": []
    },
    {
      "cell_type": "code",
      "metadata": {
        "id": "NWualafa-tpD"
      },
      "source": [
        "def q3_a(train_data, test_data):\n",
        "    \"\"\"\n",
        "    train_data: A (n_train, H, W, 3) uint8 numpy array of quantized images with values in {0, 1, 2, 3}\n",
        "    test_data: A (n_test, H, W, 3) uint8 numpy array of binary images with values in {0, 1, 2, 3}\n",
        "\n",
        "    Returns\n",
        "    - a (# of training iterations,) numpy array of train_losses evaluated every minibatch\n",
        "    - a (# of epochs + 1,) numpy array of test_losses evaluated once at initialization and after each epoch\n",
        "    - a numpy array of size (100, H, W, 3) of samples with values in [0, 1]\n",
        "    - a numpy array of size (30, H, W, 3) of interpolations with values in [0, 1].\n",
        "    \"\"\"\n",
        "    \n",
        "    epochs = 100\n",
        "    lr = 5e-4\n",
        "    batch_size = 100\n",
        "    device: str = 'cuda'\n",
        "\n",
        "    train_losses, test_losses, real_nvp = train_real_nvp_4_img(\n",
        "        train_data,\n",
        "        test_data,\n",
        "\n",
        "        epochs,\n",
        "        lr,\n",
        "        batch_size,\n",
        "        device\n",
        "    )\n",
        "\n",
        "    real_nvp.eval()\n",
        "    with torch.set_grad_enabled(False):\n",
        "        samples = real_nvp.sample(100, 3, 32, 32, device).clip(0, 1)\n",
        "        interpolation = real_nvp.interpolate(5, 6, 3, 32, 32, device).clip(0, 1)\n",
        "\n",
        "    return train_losses, test_losses, samples, interpolation"
      ],
      "execution_count": 133,
      "outputs": []
    },
    {
      "cell_type": "markdown",
      "metadata": {
        "id": "v0EPVfz1cpq0"
      },
      "source": [
        "### Results\n",
        "\n",
        "Once you've implemented `q3_a`, execute the cells below to visualize and save your results\n",
        "\n"
      ]
    },
    {
      "cell_type": "code",
      "metadata": {
        "id": "xNxXqVZpAd_V",
        "colab": {
          "base_uri": "https://localhost:8080/",
          "height": 392,
          "referenced_widgets": [
            "0da80106fcb444a5ae4a0365dc19812a",
            "24a8b41cde3a4af5ab41349ea75e62f6",
            "ab506739afbd49708ea2aa23b977488d",
            "dc5b0e13ea6a4298828291f83979f1bd",
            "0660d8fdbee640e08bd418d3099e8e66",
            "dee20fe6f2d5403e8d248a13d38af333",
            "428ab3a9f0b046a1ac9898f449a849c4",
            "b9e92864c8c543548927fe2b851efbfe",
            "b5e1206d9e49469fa777fae6cfd01ea2",
            "723455b8551b4be48856fafb4a50037d",
            "bfaa7f2c45304d859e407e93cf69a7d1",
            "563c3f5abd6640fe8a918c3556d19d58",
            "afbf366e69614b87b563bad641aa6692",
            "d49dc00f3b4b4e17926455064e54de24",
            "173d67232a3d4d5490699a4c0331e2ff",
            "5f5713a484744c2d9a08bde23abe4911"
          ]
        },
        "outputId": "1fe9e005-4c50-4470-fdbb-48932c19b805"
      },
      "source": [
        "q3_save_results(q3_a, 'a')"
      ],
      "execution_count": 134,
      "outputs": [
        {
          "output_type": "display_data",
          "data": {
            "application/vnd.jupyter.widget-view+json": {
              "model_id": "0da80106fcb444a5ae4a0365dc19812a",
              "version_minor": 0,
              "version_major": 2
            },
            "text/plain": [
              "HBox(children=(FloatProgress(value=0.0), HTML(value='')))"
            ]
          },
          "metadata": {
            "tags": []
          }
        },
        {
          "output_type": "display_data",
          "data": {
            "application/vnd.jupyter.widget-view+json": {
              "model_id": "b5e1206d9e49469fa777fae6cfd01ea2",
              "version_minor": 0,
              "version_major": 2
            },
            "text/plain": [
              "HBox(children=(FloatProgress(value=0.0, max=200.0), HTML(value='')))"
            ]
          },
          "metadata": {
            "tags": []
          }
        },
        {
          "output_type": "error",
          "ename": "RuntimeError",
          "evalue": "ignored",
          "traceback": [
            "\u001b[0;31m---------------------------------------------------------------------------\u001b[0m",
            "\u001b[0;31mRuntimeError\u001b[0m                              Traceback (most recent call last)",
            "\u001b[0;32m<ipython-input-134-819f49b7ae75>\u001b[0m in \u001b[0;36m<module>\u001b[0;34m()\u001b[0m\n\u001b[0;32m----> 1\u001b[0;31m \u001b[0mq3_save_results\u001b[0m\u001b[0;34m(\u001b[0m\u001b[0mq3_a\u001b[0m\u001b[0;34m,\u001b[0m \u001b[0;34m'a'\u001b[0m\u001b[0;34m)\u001b[0m\u001b[0;34m\u001b[0m\u001b[0;34m\u001b[0m\u001b[0m\n\u001b[0m",
            "\u001b[0;32m/usr/local/lib/python3.6/dist-packages/deepul/hw2_helper.py\u001b[0m in \u001b[0;36mq3_save_results\u001b[0;34m(fn, part)\u001b[0m\n\u001b[1;32m    176\u001b[0m     \u001b[0mtrain_data\u001b[0m\u001b[0;34m,\u001b[0m \u001b[0mtest_data\u001b[0m \u001b[0;34m=\u001b[0m \u001b[0mload_pickled_data\u001b[0m\u001b[0;34m(\u001b[0m\u001b[0mjoin\u001b[0m\u001b[0;34m(\u001b[0m\u001b[0mdata_dir\u001b[0m\u001b[0;34m,\u001b[0m \u001b[0;34m'celeb.pkl'\u001b[0m\u001b[0;34m)\u001b[0m\u001b[0;34m)\u001b[0m\u001b[0;34m\u001b[0m\u001b[0;34m\u001b[0m\u001b[0m\n\u001b[1;32m    177\u001b[0m \u001b[0;34m\u001b[0m\u001b[0m\n\u001b[0;32m--> 178\u001b[0;31m     \u001b[0mtrain_losses\u001b[0m\u001b[0;34m,\u001b[0m \u001b[0mtest_losses\u001b[0m\u001b[0;34m,\u001b[0m \u001b[0msamples\u001b[0m\u001b[0;34m,\u001b[0m \u001b[0minterpolations\u001b[0m \u001b[0;34m=\u001b[0m \u001b[0mfn\u001b[0m\u001b[0;34m(\u001b[0m\u001b[0mtrain_data\u001b[0m\u001b[0;34m,\u001b[0m \u001b[0mtest_data\u001b[0m\u001b[0;34m)\u001b[0m\u001b[0;34m\u001b[0m\u001b[0;34m\u001b[0m\u001b[0m\n\u001b[0m\u001b[1;32m    179\u001b[0m     \u001b[0msamples\u001b[0m \u001b[0;34m=\u001b[0m \u001b[0msamples\u001b[0m\u001b[0;34m.\u001b[0m\u001b[0mastype\u001b[0m\u001b[0;34m(\u001b[0m\u001b[0;34m'float'\u001b[0m\u001b[0;34m)\u001b[0m\u001b[0;34m\u001b[0m\u001b[0;34m\u001b[0m\u001b[0m\n\u001b[1;32m    180\u001b[0m     \u001b[0minterpolations\u001b[0m \u001b[0;34m=\u001b[0m \u001b[0minterpolations\u001b[0m\u001b[0;34m.\u001b[0m\u001b[0mastype\u001b[0m\u001b[0;34m(\u001b[0m\u001b[0;34m'float'\u001b[0m\u001b[0;34m)\u001b[0m\u001b[0;34m\u001b[0m\u001b[0;34m\u001b[0m\u001b[0m\n",
            "\u001b[0;32m<ipython-input-133-f5623ef7f9fc>\u001b[0m in \u001b[0;36mq3_a\u001b[0;34m(train_data, test_data)\u001b[0m\n\u001b[1;32m     23\u001b[0m         \u001b[0mlr\u001b[0m\u001b[0;34m,\u001b[0m\u001b[0;34m\u001b[0m\u001b[0;34m\u001b[0m\u001b[0m\n\u001b[1;32m     24\u001b[0m         \u001b[0mbatch_size\u001b[0m\u001b[0;34m,\u001b[0m\u001b[0;34m\u001b[0m\u001b[0;34m\u001b[0m\u001b[0m\n\u001b[0;32m---> 25\u001b[0;31m         \u001b[0mdevice\u001b[0m\u001b[0;34m\u001b[0m\u001b[0;34m\u001b[0m\u001b[0m\n\u001b[0m\u001b[1;32m     26\u001b[0m     )\n\u001b[1;32m     27\u001b[0m \u001b[0;34m\u001b[0m\u001b[0m\n",
            "\u001b[0;32m<ipython-input-132-30ca43159f24>\u001b[0m in \u001b[0;36mtrain_real_nvp_4_img\u001b[0;34m(train_data, test_data, epochs, lr, batch_size, device)\u001b[0m\n\u001b[1;32m     28\u001b[0m             \u001b[0;32mwith\u001b[0m \u001b[0mtorch\u001b[0m\u001b[0;34m.\u001b[0m\u001b[0mset_grad_enabled\u001b[0m\u001b[0;34m(\u001b[0m\u001b[0;32mTrue\u001b[0m\u001b[0;34m)\u001b[0m\u001b[0;34m:\u001b[0m\u001b[0;34m\u001b[0m\u001b[0;34m\u001b[0m\u001b[0m\n\u001b[1;32m     29\u001b[0m                 \u001b[0moptimizer\u001b[0m\u001b[0;34m.\u001b[0m\u001b[0mzero_grad\u001b[0m\u001b[0;34m(\u001b[0m\u001b[0;34m)\u001b[0m\u001b[0;34m\u001b[0m\u001b[0;34m\u001b[0m\u001b[0m\n\u001b[0;32m---> 30\u001b[0;31m                 \u001b[0mloss\u001b[0m \u001b[0;34m=\u001b[0m \u001b[0mreal_nvp\u001b[0m\u001b[0;34m(\u001b[0m\u001b[0minput\u001b[0m\u001b[0;34m)\u001b[0m\u001b[0;34m\u001b[0m\u001b[0;34m\u001b[0m\u001b[0m\n\u001b[0m\u001b[1;32m     31\u001b[0m                 \u001b[0mloss\u001b[0m\u001b[0;34m.\u001b[0m\u001b[0mbackward\u001b[0m\u001b[0;34m(\u001b[0m\u001b[0;34m)\u001b[0m\u001b[0;34m\u001b[0m\u001b[0;34m\u001b[0m\u001b[0m\n\u001b[1;32m     32\u001b[0m                 \u001b[0moptimizer\u001b[0m\u001b[0;34m.\u001b[0m\u001b[0mstep\u001b[0m\u001b[0;34m(\u001b[0m\u001b[0;34m)\u001b[0m\u001b[0;34m\u001b[0m\u001b[0;34m\u001b[0m\u001b[0m\n",
            "\u001b[0;32m/usr/local/lib/python3.6/dist-packages/torch/nn/modules/module.py\u001b[0m in \u001b[0;36m_call_impl\u001b[0;34m(self, *input, **kwargs)\u001b[0m\n\u001b[1;32m    725\u001b[0m             \u001b[0mresult\u001b[0m \u001b[0;34m=\u001b[0m \u001b[0mself\u001b[0m\u001b[0;34m.\u001b[0m\u001b[0m_slow_forward\u001b[0m\u001b[0;34m(\u001b[0m\u001b[0;34m*\u001b[0m\u001b[0minput\u001b[0m\u001b[0;34m,\u001b[0m \u001b[0;34m**\u001b[0m\u001b[0mkwargs\u001b[0m\u001b[0;34m)\u001b[0m\u001b[0;34m\u001b[0m\u001b[0;34m\u001b[0m\u001b[0m\n\u001b[1;32m    726\u001b[0m         \u001b[0;32melse\u001b[0m\u001b[0;34m:\u001b[0m\u001b[0;34m\u001b[0m\u001b[0;34m\u001b[0m\u001b[0m\n\u001b[0;32m--> 727\u001b[0;31m             \u001b[0mresult\u001b[0m \u001b[0;34m=\u001b[0m \u001b[0mself\u001b[0m\u001b[0;34m.\u001b[0m\u001b[0mforward\u001b[0m\u001b[0;34m(\u001b[0m\u001b[0;34m*\u001b[0m\u001b[0minput\u001b[0m\u001b[0;34m,\u001b[0m \u001b[0;34m**\u001b[0m\u001b[0mkwargs\u001b[0m\u001b[0;34m)\u001b[0m\u001b[0;34m\u001b[0m\u001b[0;34m\u001b[0m\u001b[0m\n\u001b[0m\u001b[1;32m    728\u001b[0m         for hook in itertools.chain(\n\u001b[1;32m    729\u001b[0m                 \u001b[0m_global_forward_hooks\u001b[0m\u001b[0;34m.\u001b[0m\u001b[0mvalues\u001b[0m\u001b[0;34m(\u001b[0m\u001b[0;34m)\u001b[0m\u001b[0;34m,\u001b[0m\u001b[0;34m\u001b[0m\u001b[0;34m\u001b[0m\u001b[0m\n",
            "\u001b[0;32m<ipython-input-125-5c3dc2b7e96a>\u001b[0m in \u001b[0;36mforward\u001b[0;34m(self, x)\u001b[0m\n\u001b[1;32m     51\u001b[0m     \u001b[0;32mdef\u001b[0m \u001b[0mforward\u001b[0m\u001b[0;34m(\u001b[0m\u001b[0mself\u001b[0m\u001b[0;34m,\u001b[0m \u001b[0mx\u001b[0m\u001b[0;34m)\u001b[0m\u001b[0;34m:\u001b[0m\u001b[0;34m\u001b[0m\u001b[0;34m\u001b[0m\u001b[0m\n\u001b[1;32m     52\u001b[0m         \u001b[0mB\u001b[0m\u001b[0;34m,\u001b[0m \u001b[0mC\u001b[0m\u001b[0;34m,\u001b[0m \u001b[0mH\u001b[0m\u001b[0;34m,\u001b[0m \u001b[0mW\u001b[0m \u001b[0;34m=\u001b[0m \u001b[0mx\u001b[0m\u001b[0;34m.\u001b[0m\u001b[0mshape\u001b[0m\u001b[0;34m\u001b[0m\u001b[0;34m\u001b[0m\u001b[0m\n\u001b[0;32m---> 53\u001b[0;31m         \u001b[0;32mreturn\u001b[0m \u001b[0;34m-\u001b[0m\u001b[0mself\u001b[0m\u001b[0;34m.\u001b[0m\u001b[0mlog_prob\u001b[0m\u001b[0;34m(\u001b[0m\u001b[0mx\u001b[0m\u001b[0;34m)\u001b[0m\u001b[0;34m.\u001b[0m\u001b[0mmean\u001b[0m\u001b[0;34m(\u001b[0m\u001b[0;34m)\u001b[0m \u001b[0;34m/\u001b[0m \u001b[0mC\u001b[0m \u001b[0;34m/\u001b[0m \u001b[0mH\u001b[0m \u001b[0;34m/\u001b[0m \u001b[0mW\u001b[0m\u001b[0;34m\u001b[0m\u001b[0;34m\u001b[0m\u001b[0m\n\u001b[0m\u001b[1;32m     54\u001b[0m \u001b[0;34m\u001b[0m\u001b[0m\n\u001b[1;32m     55\u001b[0m     \u001b[0;32mdef\u001b[0m \u001b[0mlog_prob\u001b[0m\u001b[0;34m(\u001b[0m\u001b[0mself\u001b[0m\u001b[0;34m,\u001b[0m \u001b[0mx\u001b[0m\u001b[0;34m)\u001b[0m\u001b[0;34m:\u001b[0m\u001b[0;34m\u001b[0m\u001b[0;34m\u001b[0m\u001b[0m\n",
            "\u001b[0;32m<ipython-input-125-5c3dc2b7e96a>\u001b[0m in \u001b[0;36mlog_prob\u001b[0;34m(self, x)\u001b[0m\n\u001b[1;32m     54\u001b[0m \u001b[0;34m\u001b[0m\u001b[0m\n\u001b[1;32m     55\u001b[0m     \u001b[0;32mdef\u001b[0m \u001b[0mlog_prob\u001b[0m\u001b[0;34m(\u001b[0m\u001b[0mself\u001b[0m\u001b[0;34m,\u001b[0m \u001b[0mx\u001b[0m\u001b[0;34m)\u001b[0m\u001b[0;34m:\u001b[0m\u001b[0;34m\u001b[0m\u001b[0;34m\u001b[0m\u001b[0m\n\u001b[0;32m---> 56\u001b[0;31m         \u001b[0mz\u001b[0m\u001b[0;34m,\u001b[0m \u001b[0mlog_det\u001b[0m \u001b[0;34m=\u001b[0m \u001b[0mself\u001b[0m\u001b[0;34m.\u001b[0m\u001b[0m_forward\u001b[0m\u001b[0;34m(\u001b[0m\u001b[0mx\u001b[0m\u001b[0;34m)\u001b[0m\u001b[0;34m\u001b[0m\u001b[0;34m\u001b[0m\u001b[0m\n\u001b[0m\u001b[1;32m     57\u001b[0m         \u001b[0;32mreturn\u001b[0m \u001b[0mself\u001b[0m\u001b[0;34m.\u001b[0m\u001b[0mbase_dist\u001b[0m\u001b[0;34m.\u001b[0m\u001b[0mlog_prob\u001b[0m\u001b[0;34m(\u001b[0m\u001b[0mz\u001b[0m\u001b[0;34m)\u001b[0m\u001b[0;34m.\u001b[0m\u001b[0msum\u001b[0m\u001b[0;34m(\u001b[0m\u001b[0mdim\u001b[0m\u001b[0;34m=\u001b[0m\u001b[0;34m[\u001b[0m\u001b[0;36m1\u001b[0m\u001b[0;34m,\u001b[0m \u001b[0;36m2\u001b[0m\u001b[0;34m,\u001b[0m \u001b[0;36m3\u001b[0m\u001b[0;34m]\u001b[0m\u001b[0;34m)\u001b[0m \u001b[0;34m+\u001b[0m \u001b[0mlog_det\u001b[0m\u001b[0;34m.\u001b[0m\u001b[0msum\u001b[0m\u001b[0;34m(\u001b[0m\u001b[0mdim\u001b[0m\u001b[0;34m=\u001b[0m\u001b[0;34m[\u001b[0m\u001b[0;36m1\u001b[0m\u001b[0;34m,\u001b[0m \u001b[0;36m2\u001b[0m\u001b[0;34m,\u001b[0m \u001b[0;36m3\u001b[0m\u001b[0;34m]\u001b[0m\u001b[0;34m)\u001b[0m\u001b[0;34m\u001b[0m\u001b[0;34m\u001b[0m\u001b[0m\n\u001b[1;32m     58\u001b[0m \u001b[0;34m\u001b[0m\u001b[0m\n",
            "\u001b[0;32m<ipython-input-125-5c3dc2b7e96a>\u001b[0m in \u001b[0;36m_forward\u001b[0;34m(self, x)\u001b[0m\n\u001b[1;32m     37\u001b[0m         \u001b[0msum_log_det\u001b[0m \u001b[0;34m=\u001b[0m \u001b[0mtorch\u001b[0m\u001b[0;34m.\u001b[0m\u001b[0mzeros_like\u001b[0m\u001b[0;34m(\u001b[0m\u001b[0mx\u001b[0m\u001b[0;34m)\u001b[0m\u001b[0;34m\u001b[0m\u001b[0;34m\u001b[0m\u001b[0m\n\u001b[1;32m     38\u001b[0m         \u001b[0;32mfor\u001b[0m \u001b[0mf\u001b[0m \u001b[0;32min\u001b[0m \u001b[0mself\u001b[0m\u001b[0;34m.\u001b[0m\u001b[0mf1\u001b[0m\u001b[0;34m:\u001b[0m\u001b[0;34m\u001b[0m\u001b[0;34m\u001b[0m\u001b[0m\n\u001b[0;32m---> 39\u001b[0;31m             \u001b[0mx\u001b[0m\u001b[0;34m,\u001b[0m \u001b[0mlog_det\u001b[0m \u001b[0;34m=\u001b[0m \u001b[0mf\u001b[0m\u001b[0;34m(\u001b[0m\u001b[0mx\u001b[0m\u001b[0;34m)\u001b[0m\u001b[0;34m\u001b[0m\u001b[0;34m\u001b[0m\u001b[0m\n\u001b[0m\u001b[1;32m     40\u001b[0m             \u001b[0msum_log_det\u001b[0m \u001b[0;34m+=\u001b[0m \u001b[0mlog_det\u001b[0m\u001b[0;34m\u001b[0m\u001b[0;34m\u001b[0m\u001b[0m\n\u001b[1;32m     41\u001b[0m         \u001b[0mx\u001b[0m\u001b[0;34m,\u001b[0m \u001b[0msum_log_det\u001b[0m \u001b[0;34m=\u001b[0m \u001b[0mself\u001b[0m\u001b[0;34m.\u001b[0m\u001b[0msqueeze\u001b[0m\u001b[0;34m(\u001b[0m\u001b[0mx\u001b[0m\u001b[0;34m)\u001b[0m\u001b[0;34m,\u001b[0m \u001b[0mself\u001b[0m\u001b[0;34m.\u001b[0m\u001b[0msqueeze\u001b[0m\u001b[0;34m(\u001b[0m\u001b[0msum_log_det\u001b[0m\u001b[0;34m)\u001b[0m\u001b[0;34m\u001b[0m\u001b[0;34m\u001b[0m\u001b[0m\n",
            "\u001b[0;32m/usr/local/lib/python3.6/dist-packages/torch/nn/modules/module.py\u001b[0m in \u001b[0;36m_call_impl\u001b[0;34m(self, *input, **kwargs)\u001b[0m\n\u001b[1;32m    725\u001b[0m             \u001b[0mresult\u001b[0m \u001b[0;34m=\u001b[0m \u001b[0mself\u001b[0m\u001b[0;34m.\u001b[0m\u001b[0m_slow_forward\u001b[0m\u001b[0;34m(\u001b[0m\u001b[0;34m*\u001b[0m\u001b[0minput\u001b[0m\u001b[0;34m,\u001b[0m \u001b[0;34m**\u001b[0m\u001b[0mkwargs\u001b[0m\u001b[0;34m)\u001b[0m\u001b[0;34m\u001b[0m\u001b[0;34m\u001b[0m\u001b[0m\n\u001b[1;32m    726\u001b[0m         \u001b[0;32melse\u001b[0m\u001b[0;34m:\u001b[0m\u001b[0;34m\u001b[0m\u001b[0;34m\u001b[0m\u001b[0m\n\u001b[0;32m--> 727\u001b[0;31m             \u001b[0mresult\u001b[0m \u001b[0;34m=\u001b[0m \u001b[0mself\u001b[0m\u001b[0;34m.\u001b[0m\u001b[0mforward\u001b[0m\u001b[0;34m(\u001b[0m\u001b[0;34m*\u001b[0m\u001b[0minput\u001b[0m\u001b[0;34m,\u001b[0m \u001b[0;34m**\u001b[0m\u001b[0mkwargs\u001b[0m\u001b[0;34m)\u001b[0m\u001b[0;34m\u001b[0m\u001b[0;34m\u001b[0m\u001b[0m\n\u001b[0m\u001b[1;32m    728\u001b[0m         for hook in itertools.chain(\n\u001b[1;32m    729\u001b[0m                 \u001b[0m_global_forward_hooks\u001b[0m\u001b[0;34m.\u001b[0m\u001b[0mvalues\u001b[0m\u001b[0;34m(\u001b[0m\u001b[0;34m)\u001b[0m\u001b[0;34m,\u001b[0m\u001b[0;34m\u001b[0m\u001b[0;34m\u001b[0m\u001b[0m\n",
            "\u001b[0;32m<ipython-input-121-e08d41c872f5>\u001b[0m in \u001b[0;36mforward\u001b[0;34m(self, x, reverse)\u001b[0m\n\u001b[1;32m     25\u001b[0m         \u001b[0mB\u001b[0m \u001b[0;34m=\u001b[0m \u001b[0mx\u001b[0m\u001b[0;34m.\u001b[0m\u001b[0mshape\u001b[0m\u001b[0;34m[\u001b[0m\u001b[0;36m0\u001b[0m\u001b[0;34m]\u001b[0m\u001b[0;34m\u001b[0m\u001b[0;34m\u001b[0m\u001b[0m\n\u001b[1;32m     26\u001b[0m         \u001b[0mx_\u001b[0m \u001b[0;34m=\u001b[0m \u001b[0mx\u001b[0m \u001b[0;34m*\u001b[0m \u001b[0mself\u001b[0m\u001b[0;34m.\u001b[0m\u001b[0mmask\u001b[0m\u001b[0;34m\u001b[0m\u001b[0;34m\u001b[0m\u001b[0m\n\u001b[0;32m---> 27\u001b[0;31m         \u001b[0mlog_s\u001b[0m\u001b[0;34m,\u001b[0m \u001b[0mt\u001b[0m \u001b[0;34m=\u001b[0m \u001b[0mtorch\u001b[0m\u001b[0;34m.\u001b[0m\u001b[0mchunk\u001b[0m\u001b[0;34m(\u001b[0m\u001b[0mself\u001b[0m\u001b[0;34m.\u001b[0m\u001b[0mresnet\u001b[0m\u001b[0;34m(\u001b[0m\u001b[0mx_\u001b[0m\u001b[0;34m)\u001b[0m\u001b[0;34m,\u001b[0m \u001b[0;36m2\u001b[0m\u001b[0;34m,\u001b[0m \u001b[0mdim\u001b[0m\u001b[0;34m=\u001b[0m\u001b[0;36m1\u001b[0m\u001b[0;34m)\u001b[0m\u001b[0;34m\u001b[0m\u001b[0;34m\u001b[0m\u001b[0m\n\u001b[0m\u001b[1;32m     28\u001b[0m         \u001b[0mlog_scale\u001b[0m \u001b[0;34m=\u001b[0m \u001b[0mself\u001b[0m\u001b[0;34m.\u001b[0m\u001b[0mscale\u001b[0m \u001b[0;34m*\u001b[0m \u001b[0mtorch\u001b[0m\u001b[0;34m.\u001b[0m\u001b[0mtanh\u001b[0m\u001b[0;34m(\u001b[0m\u001b[0mlog_s\u001b[0m\u001b[0;34m)\u001b[0m \u001b[0;34m+\u001b[0m \u001b[0mself\u001b[0m\u001b[0;34m.\u001b[0m\u001b[0mscale_shift\u001b[0m\u001b[0;34m\u001b[0m\u001b[0;34m\u001b[0m\u001b[0m\n\u001b[1;32m     29\u001b[0m         \u001b[0mt\u001b[0m \u001b[0;34m=\u001b[0m \u001b[0mt\u001b[0m \u001b[0;34m*\u001b[0m \u001b[0;34m(\u001b[0m\u001b[0;36m1.0\u001b[0m \u001b[0;34m-\u001b[0m \u001b[0mself\u001b[0m\u001b[0;34m.\u001b[0m\u001b[0mmask\u001b[0m\u001b[0;34m)\u001b[0m\u001b[0;34m\u001b[0m\u001b[0;34m\u001b[0m\u001b[0m\n",
            "\u001b[0;32m/usr/local/lib/python3.6/dist-packages/torch/nn/modules/module.py\u001b[0m in \u001b[0;36m_call_impl\u001b[0;34m(self, *input, **kwargs)\u001b[0m\n\u001b[1;32m    725\u001b[0m             \u001b[0mresult\u001b[0m \u001b[0;34m=\u001b[0m \u001b[0mself\u001b[0m\u001b[0;34m.\u001b[0m\u001b[0m_slow_forward\u001b[0m\u001b[0;34m(\u001b[0m\u001b[0;34m*\u001b[0m\u001b[0minput\u001b[0m\u001b[0;34m,\u001b[0m \u001b[0;34m**\u001b[0m\u001b[0mkwargs\u001b[0m\u001b[0;34m)\u001b[0m\u001b[0;34m\u001b[0m\u001b[0;34m\u001b[0m\u001b[0m\n\u001b[1;32m    726\u001b[0m         \u001b[0;32melse\u001b[0m\u001b[0;34m:\u001b[0m\u001b[0;34m\u001b[0m\u001b[0;34m\u001b[0m\u001b[0m\n\u001b[0;32m--> 727\u001b[0;31m             \u001b[0mresult\u001b[0m \u001b[0;34m=\u001b[0m \u001b[0mself\u001b[0m\u001b[0;34m.\u001b[0m\u001b[0mforward\u001b[0m\u001b[0;34m(\u001b[0m\u001b[0;34m*\u001b[0m\u001b[0minput\u001b[0m\u001b[0;34m,\u001b[0m \u001b[0;34m**\u001b[0m\u001b[0mkwargs\u001b[0m\u001b[0;34m)\u001b[0m\u001b[0;34m\u001b[0m\u001b[0;34m\u001b[0m\u001b[0m\n\u001b[0m\u001b[1;32m    728\u001b[0m         for hook in itertools.chain(\n\u001b[1;32m    729\u001b[0m                 \u001b[0m_global_forward_hooks\u001b[0m\u001b[0;34m.\u001b[0m\u001b[0mvalues\u001b[0m\u001b[0;34m(\u001b[0m\u001b[0;34m)\u001b[0m\u001b[0;34m,\u001b[0m\u001b[0;34m\u001b[0m\u001b[0;34m\u001b[0m\u001b[0m\n",
            "\u001b[0;32m<ipython-input-117-e357961fad3b>\u001b[0m in \u001b[0;36mforward\u001b[0;34m(self, x)\u001b[0m\n\u001b[1;32m     10\u001b[0m \u001b[0;34m\u001b[0m\u001b[0m\n\u001b[1;32m     11\u001b[0m     \u001b[0;32mdef\u001b[0m \u001b[0mforward\u001b[0m\u001b[0;34m(\u001b[0m\u001b[0mself\u001b[0m\u001b[0;34m,\u001b[0m \u001b[0mx\u001b[0m\u001b[0;34m)\u001b[0m\u001b[0;34m:\u001b[0m\u001b[0;34m\u001b[0m\u001b[0;34m\u001b[0m\u001b[0m\n\u001b[0;32m---> 12\u001b[0;31m         \u001b[0;32mreturn\u001b[0m \u001b[0mself\u001b[0m\u001b[0;34m.\u001b[0m\u001b[0mmodel\u001b[0m\u001b[0;34m(\u001b[0m\u001b[0mx\u001b[0m\u001b[0;34m)\u001b[0m\u001b[0;34m\u001b[0m\u001b[0;34m\u001b[0m\u001b[0m\n\u001b[0m",
            "\u001b[0;32m/usr/local/lib/python3.6/dist-packages/torch/nn/modules/module.py\u001b[0m in \u001b[0;36m_call_impl\u001b[0;34m(self, *input, **kwargs)\u001b[0m\n\u001b[1;32m    725\u001b[0m             \u001b[0mresult\u001b[0m \u001b[0;34m=\u001b[0m \u001b[0mself\u001b[0m\u001b[0;34m.\u001b[0m\u001b[0m_slow_forward\u001b[0m\u001b[0;34m(\u001b[0m\u001b[0;34m*\u001b[0m\u001b[0minput\u001b[0m\u001b[0;34m,\u001b[0m \u001b[0;34m**\u001b[0m\u001b[0mkwargs\u001b[0m\u001b[0;34m)\u001b[0m\u001b[0;34m\u001b[0m\u001b[0;34m\u001b[0m\u001b[0m\n\u001b[1;32m    726\u001b[0m         \u001b[0;32melse\u001b[0m\u001b[0;34m:\u001b[0m\u001b[0;34m\u001b[0m\u001b[0;34m\u001b[0m\u001b[0m\n\u001b[0;32m--> 727\u001b[0;31m             \u001b[0mresult\u001b[0m \u001b[0;34m=\u001b[0m \u001b[0mself\u001b[0m\u001b[0;34m.\u001b[0m\u001b[0mforward\u001b[0m\u001b[0;34m(\u001b[0m\u001b[0;34m*\u001b[0m\u001b[0minput\u001b[0m\u001b[0;34m,\u001b[0m \u001b[0;34m**\u001b[0m\u001b[0mkwargs\u001b[0m\u001b[0;34m)\u001b[0m\u001b[0;34m\u001b[0m\u001b[0;34m\u001b[0m\u001b[0m\n\u001b[0m\u001b[1;32m    728\u001b[0m         for hook in itertools.chain(\n\u001b[1;32m    729\u001b[0m                 \u001b[0m_global_forward_hooks\u001b[0m\u001b[0;34m.\u001b[0m\u001b[0mvalues\u001b[0m\u001b[0;34m(\u001b[0m\u001b[0;34m)\u001b[0m\u001b[0;34m,\u001b[0m\u001b[0;34m\u001b[0m\u001b[0;34m\u001b[0m\u001b[0m\n",
            "\u001b[0;32m/usr/local/lib/python3.6/dist-packages/torch/nn/modules/container.py\u001b[0m in \u001b[0;36mforward\u001b[0;34m(self, input)\u001b[0m\n\u001b[1;32m    115\u001b[0m     \u001b[0;32mdef\u001b[0m \u001b[0mforward\u001b[0m\u001b[0;34m(\u001b[0m\u001b[0mself\u001b[0m\u001b[0;34m,\u001b[0m \u001b[0minput\u001b[0m\u001b[0;34m)\u001b[0m\u001b[0;34m:\u001b[0m\u001b[0;34m\u001b[0m\u001b[0;34m\u001b[0m\u001b[0m\n\u001b[1;32m    116\u001b[0m         \u001b[0;32mfor\u001b[0m \u001b[0mmodule\u001b[0m \u001b[0;32min\u001b[0m \u001b[0mself\u001b[0m\u001b[0;34m:\u001b[0m\u001b[0;34m\u001b[0m\u001b[0;34m\u001b[0m\u001b[0m\n\u001b[0;32m--> 117\u001b[0;31m             \u001b[0minput\u001b[0m \u001b[0;34m=\u001b[0m \u001b[0mmodule\u001b[0m\u001b[0;34m(\u001b[0m\u001b[0minput\u001b[0m\u001b[0;34m)\u001b[0m\u001b[0;34m\u001b[0m\u001b[0;34m\u001b[0m\u001b[0m\n\u001b[0m\u001b[1;32m    118\u001b[0m         \u001b[0;32mreturn\u001b[0m \u001b[0minput\u001b[0m\u001b[0;34m\u001b[0m\u001b[0;34m\u001b[0m\u001b[0m\n\u001b[1;32m    119\u001b[0m \u001b[0;34m\u001b[0m\u001b[0m\n",
            "\u001b[0;32m/usr/local/lib/python3.6/dist-packages/torch/nn/modules/module.py\u001b[0m in \u001b[0;36m_call_impl\u001b[0;34m(self, *input, **kwargs)\u001b[0m\n\u001b[1;32m    725\u001b[0m             \u001b[0mresult\u001b[0m \u001b[0;34m=\u001b[0m \u001b[0mself\u001b[0m\u001b[0;34m.\u001b[0m\u001b[0m_slow_forward\u001b[0m\u001b[0;34m(\u001b[0m\u001b[0;34m*\u001b[0m\u001b[0minput\u001b[0m\u001b[0;34m,\u001b[0m \u001b[0;34m**\u001b[0m\u001b[0mkwargs\u001b[0m\u001b[0;34m)\u001b[0m\u001b[0;34m\u001b[0m\u001b[0;34m\u001b[0m\u001b[0m\n\u001b[1;32m    726\u001b[0m         \u001b[0;32melse\u001b[0m\u001b[0;34m:\u001b[0m\u001b[0;34m\u001b[0m\u001b[0;34m\u001b[0m\u001b[0m\n\u001b[0;32m--> 727\u001b[0;31m             \u001b[0mresult\u001b[0m \u001b[0;34m=\u001b[0m \u001b[0mself\u001b[0m\u001b[0;34m.\u001b[0m\u001b[0mforward\u001b[0m\u001b[0;34m(\u001b[0m\u001b[0;34m*\u001b[0m\u001b[0minput\u001b[0m\u001b[0;34m,\u001b[0m \u001b[0;34m**\u001b[0m\u001b[0mkwargs\u001b[0m\u001b[0;34m)\u001b[0m\u001b[0;34m\u001b[0m\u001b[0;34m\u001b[0m\u001b[0m\n\u001b[0m\u001b[1;32m    728\u001b[0m         for hook in itertools.chain(\n\u001b[1;32m    729\u001b[0m                 \u001b[0m_global_forward_hooks\u001b[0m\u001b[0;34m.\u001b[0m\u001b[0mvalues\u001b[0m\u001b[0;34m(\u001b[0m\u001b[0;34m)\u001b[0m\u001b[0;34m,\u001b[0m\u001b[0;34m\u001b[0m\u001b[0;34m\u001b[0m\u001b[0m\n",
            "\u001b[0;32m/usr/local/lib/python3.6/dist-packages/torch/nn/modules/container.py\u001b[0m in \u001b[0;36mforward\u001b[0;34m(self, input)\u001b[0m\n\u001b[1;32m    115\u001b[0m     \u001b[0;32mdef\u001b[0m \u001b[0mforward\u001b[0m\u001b[0;34m(\u001b[0m\u001b[0mself\u001b[0m\u001b[0;34m,\u001b[0m \u001b[0minput\u001b[0m\u001b[0;34m)\u001b[0m\u001b[0;34m:\u001b[0m\u001b[0;34m\u001b[0m\u001b[0;34m\u001b[0m\u001b[0m\n\u001b[1;32m    116\u001b[0m         \u001b[0;32mfor\u001b[0m \u001b[0mmodule\u001b[0m \u001b[0;32min\u001b[0m \u001b[0mself\u001b[0m\u001b[0;34m:\u001b[0m\u001b[0;34m\u001b[0m\u001b[0;34m\u001b[0m\u001b[0m\n\u001b[0;32m--> 117\u001b[0;31m             \u001b[0minput\u001b[0m \u001b[0;34m=\u001b[0m \u001b[0mmodule\u001b[0m\u001b[0;34m(\u001b[0m\u001b[0minput\u001b[0m\u001b[0;34m)\u001b[0m\u001b[0;34m\u001b[0m\u001b[0;34m\u001b[0m\u001b[0m\n\u001b[0m\u001b[1;32m    118\u001b[0m         \u001b[0;32mreturn\u001b[0m \u001b[0minput\u001b[0m\u001b[0;34m\u001b[0m\u001b[0;34m\u001b[0m\u001b[0m\n\u001b[1;32m    119\u001b[0m \u001b[0;34m\u001b[0m\u001b[0m\n",
            "\u001b[0;32m/usr/local/lib/python3.6/dist-packages/torch/nn/modules/module.py\u001b[0m in \u001b[0;36m_call_impl\u001b[0;34m(self, *input, **kwargs)\u001b[0m\n\u001b[1;32m    725\u001b[0m             \u001b[0mresult\u001b[0m \u001b[0;34m=\u001b[0m \u001b[0mself\u001b[0m\u001b[0;34m.\u001b[0m\u001b[0m_slow_forward\u001b[0m\u001b[0;34m(\u001b[0m\u001b[0;34m*\u001b[0m\u001b[0minput\u001b[0m\u001b[0;34m,\u001b[0m \u001b[0;34m**\u001b[0m\u001b[0mkwargs\u001b[0m\u001b[0;34m)\u001b[0m\u001b[0;34m\u001b[0m\u001b[0;34m\u001b[0m\u001b[0m\n\u001b[1;32m    726\u001b[0m         \u001b[0;32melse\u001b[0m\u001b[0;34m:\u001b[0m\u001b[0;34m\u001b[0m\u001b[0;34m\u001b[0m\u001b[0m\n\u001b[0;32m--> 727\u001b[0;31m             \u001b[0mresult\u001b[0m \u001b[0;34m=\u001b[0m \u001b[0mself\u001b[0m\u001b[0;34m.\u001b[0m\u001b[0mforward\u001b[0m\u001b[0;34m(\u001b[0m\u001b[0;34m*\u001b[0m\u001b[0minput\u001b[0m\u001b[0;34m,\u001b[0m \u001b[0;34m**\u001b[0m\u001b[0mkwargs\u001b[0m\u001b[0;34m)\u001b[0m\u001b[0;34m\u001b[0m\u001b[0;34m\u001b[0m\u001b[0m\n\u001b[0m\u001b[1;32m    728\u001b[0m         for hook in itertools.chain(\n\u001b[1;32m    729\u001b[0m                 \u001b[0m_global_forward_hooks\u001b[0m\u001b[0;34m.\u001b[0m\u001b[0mvalues\u001b[0m\u001b[0;34m(\u001b[0m\u001b[0;34m)\u001b[0m\u001b[0;34m,\u001b[0m\u001b[0;34m\u001b[0m\u001b[0;34m\u001b[0m\u001b[0m\n",
            "\u001b[0;32m<ipython-input-28-df1fca2eebe9>\u001b[0m in \u001b[0;36mforward\u001b[0;34m(self, x)\u001b[0m\n\u001b[1;32m     11\u001b[0m \u001b[0;34m\u001b[0m\u001b[0m\n\u001b[1;32m     12\u001b[0m     \u001b[0;32mdef\u001b[0m \u001b[0mforward\u001b[0m\u001b[0;34m(\u001b[0m\u001b[0mself\u001b[0m\u001b[0;34m,\u001b[0m \u001b[0mx\u001b[0m\u001b[0;34m)\u001b[0m\u001b[0;34m:\u001b[0m\u001b[0;34m\u001b[0m\u001b[0;34m\u001b[0m\u001b[0m\n\u001b[0;32m---> 13\u001b[0;31m         \u001b[0;32mreturn\u001b[0m \u001b[0mself\u001b[0m\u001b[0;34m.\u001b[0m\u001b[0mblock\u001b[0m\u001b[0;34m(\u001b[0m\u001b[0mx\u001b[0m\u001b[0;34m)\u001b[0m \u001b[0;34m+\u001b[0m \u001b[0mx\u001b[0m\u001b[0;34m\u001b[0m\u001b[0;34m\u001b[0m\u001b[0m\n\u001b[0m",
            "\u001b[0;32m/usr/local/lib/python3.6/dist-packages/torch/nn/modules/module.py\u001b[0m in \u001b[0;36m_call_impl\u001b[0;34m(self, *input, **kwargs)\u001b[0m\n\u001b[1;32m    725\u001b[0m             \u001b[0mresult\u001b[0m \u001b[0;34m=\u001b[0m \u001b[0mself\u001b[0m\u001b[0;34m.\u001b[0m\u001b[0m_slow_forward\u001b[0m\u001b[0;34m(\u001b[0m\u001b[0;34m*\u001b[0m\u001b[0minput\u001b[0m\u001b[0;34m,\u001b[0m \u001b[0;34m**\u001b[0m\u001b[0mkwargs\u001b[0m\u001b[0;34m)\u001b[0m\u001b[0;34m\u001b[0m\u001b[0;34m\u001b[0m\u001b[0m\n\u001b[1;32m    726\u001b[0m         \u001b[0;32melse\u001b[0m\u001b[0;34m:\u001b[0m\u001b[0;34m\u001b[0m\u001b[0;34m\u001b[0m\u001b[0m\n\u001b[0;32m--> 727\u001b[0;31m             \u001b[0mresult\u001b[0m \u001b[0;34m=\u001b[0m \u001b[0mself\u001b[0m\u001b[0;34m.\u001b[0m\u001b[0mforward\u001b[0m\u001b[0;34m(\u001b[0m\u001b[0;34m*\u001b[0m\u001b[0minput\u001b[0m\u001b[0;34m,\u001b[0m \u001b[0;34m**\u001b[0m\u001b[0mkwargs\u001b[0m\u001b[0;34m)\u001b[0m\u001b[0;34m\u001b[0m\u001b[0;34m\u001b[0m\u001b[0m\n\u001b[0m\u001b[1;32m    728\u001b[0m         for hook in itertools.chain(\n\u001b[1;32m    729\u001b[0m                 \u001b[0m_global_forward_hooks\u001b[0m\u001b[0;34m.\u001b[0m\u001b[0mvalues\u001b[0m\u001b[0;34m(\u001b[0m\u001b[0;34m)\u001b[0m\u001b[0;34m,\u001b[0m\u001b[0;34m\u001b[0m\u001b[0;34m\u001b[0m\u001b[0m\n",
            "\u001b[0;32m/usr/local/lib/python3.6/dist-packages/torch/nn/modules/container.py\u001b[0m in \u001b[0;36mforward\u001b[0;34m(self, input)\u001b[0m\n\u001b[1;32m    115\u001b[0m     \u001b[0;32mdef\u001b[0m \u001b[0mforward\u001b[0m\u001b[0;34m(\u001b[0m\u001b[0mself\u001b[0m\u001b[0;34m,\u001b[0m \u001b[0minput\u001b[0m\u001b[0;34m)\u001b[0m\u001b[0;34m:\u001b[0m\u001b[0;34m\u001b[0m\u001b[0;34m\u001b[0m\u001b[0m\n\u001b[1;32m    116\u001b[0m         \u001b[0;32mfor\u001b[0m \u001b[0mmodule\u001b[0m \u001b[0;32min\u001b[0m \u001b[0mself\u001b[0m\u001b[0;34m:\u001b[0m\u001b[0;34m\u001b[0m\u001b[0;34m\u001b[0m\u001b[0m\n\u001b[0;32m--> 117\u001b[0;31m             \u001b[0minput\u001b[0m \u001b[0;34m=\u001b[0m \u001b[0mmodule\u001b[0m\u001b[0;34m(\u001b[0m\u001b[0minput\u001b[0m\u001b[0;34m)\u001b[0m\u001b[0;34m\u001b[0m\u001b[0;34m\u001b[0m\u001b[0m\n\u001b[0m\u001b[1;32m    118\u001b[0m         \u001b[0;32mreturn\u001b[0m \u001b[0minput\u001b[0m\u001b[0;34m\u001b[0m\u001b[0;34m\u001b[0m\u001b[0m\n\u001b[1;32m    119\u001b[0m \u001b[0;34m\u001b[0m\u001b[0m\n",
            "\u001b[0;32m/usr/local/lib/python3.6/dist-packages/torch/nn/modules/module.py\u001b[0m in \u001b[0;36m_call_impl\u001b[0;34m(self, *input, **kwargs)\u001b[0m\n\u001b[1;32m    725\u001b[0m             \u001b[0mresult\u001b[0m \u001b[0;34m=\u001b[0m \u001b[0mself\u001b[0m\u001b[0;34m.\u001b[0m\u001b[0m_slow_forward\u001b[0m\u001b[0;34m(\u001b[0m\u001b[0;34m*\u001b[0m\u001b[0minput\u001b[0m\u001b[0;34m,\u001b[0m \u001b[0;34m**\u001b[0m\u001b[0mkwargs\u001b[0m\u001b[0;34m)\u001b[0m\u001b[0;34m\u001b[0m\u001b[0;34m\u001b[0m\u001b[0m\n\u001b[1;32m    726\u001b[0m         \u001b[0;32melse\u001b[0m\u001b[0;34m:\u001b[0m\u001b[0;34m\u001b[0m\u001b[0;34m\u001b[0m\u001b[0m\n\u001b[0;32m--> 727\u001b[0;31m             \u001b[0mresult\u001b[0m \u001b[0;34m=\u001b[0m \u001b[0mself\u001b[0m\u001b[0;34m.\u001b[0m\u001b[0mforward\u001b[0m\u001b[0;34m(\u001b[0m\u001b[0;34m*\u001b[0m\u001b[0minput\u001b[0m\u001b[0;34m,\u001b[0m \u001b[0;34m**\u001b[0m\u001b[0mkwargs\u001b[0m\u001b[0;34m)\u001b[0m\u001b[0;34m\u001b[0m\u001b[0;34m\u001b[0m\u001b[0m\n\u001b[0m\u001b[1;32m    728\u001b[0m         for hook in itertools.chain(\n\u001b[1;32m    729\u001b[0m                 \u001b[0m_global_forward_hooks\u001b[0m\u001b[0;34m.\u001b[0m\u001b[0mvalues\u001b[0m\u001b[0;34m(\u001b[0m\u001b[0;34m)\u001b[0m\u001b[0;34m,\u001b[0m\u001b[0;34m\u001b[0m\u001b[0;34m\u001b[0m\u001b[0m\n",
            "\u001b[0;32m/usr/local/lib/python3.6/dist-packages/torch/nn/modules/activation.py\u001b[0m in \u001b[0;36mforward\u001b[0;34m(self, input)\u001b[0m\n\u001b[1;32m    100\u001b[0m \u001b[0;34m\u001b[0m\u001b[0m\n\u001b[1;32m    101\u001b[0m     \u001b[0;32mdef\u001b[0m \u001b[0mforward\u001b[0m\u001b[0;34m(\u001b[0m\u001b[0mself\u001b[0m\u001b[0;34m,\u001b[0m \u001b[0minput\u001b[0m\u001b[0;34m:\u001b[0m \u001b[0mTensor\u001b[0m\u001b[0;34m)\u001b[0m \u001b[0;34m->\u001b[0m \u001b[0mTensor\u001b[0m\u001b[0;34m:\u001b[0m\u001b[0;34m\u001b[0m\u001b[0;34m\u001b[0m\u001b[0m\n\u001b[0;32m--> 102\u001b[0;31m         \u001b[0;32mreturn\u001b[0m \u001b[0mF\u001b[0m\u001b[0;34m.\u001b[0m\u001b[0mrelu\u001b[0m\u001b[0;34m(\u001b[0m\u001b[0minput\u001b[0m\u001b[0;34m,\u001b[0m \u001b[0minplace\u001b[0m\u001b[0;34m=\u001b[0m\u001b[0mself\u001b[0m\u001b[0;34m.\u001b[0m\u001b[0minplace\u001b[0m\u001b[0;34m)\u001b[0m\u001b[0;34m\u001b[0m\u001b[0;34m\u001b[0m\u001b[0m\n\u001b[0m\u001b[1;32m    103\u001b[0m \u001b[0;34m\u001b[0m\u001b[0m\n\u001b[1;32m    104\u001b[0m     \u001b[0;32mdef\u001b[0m \u001b[0mextra_repr\u001b[0m\u001b[0;34m(\u001b[0m\u001b[0mself\u001b[0m\u001b[0;34m)\u001b[0m \u001b[0;34m->\u001b[0m \u001b[0mstr\u001b[0m\u001b[0;34m:\u001b[0m\u001b[0;34m\u001b[0m\u001b[0;34m\u001b[0m\u001b[0m\n",
            "\u001b[0;32m/usr/local/lib/python3.6/dist-packages/torch/nn/functional.py\u001b[0m in \u001b[0;36mrelu\u001b[0;34m(input, inplace)\u001b[0m\n\u001b[1;32m   1134\u001b[0m         \u001b[0mresult\u001b[0m \u001b[0;34m=\u001b[0m \u001b[0mtorch\u001b[0m\u001b[0;34m.\u001b[0m\u001b[0mrelu_\u001b[0m\u001b[0;34m(\u001b[0m\u001b[0minput\u001b[0m\u001b[0;34m)\u001b[0m\u001b[0;34m\u001b[0m\u001b[0;34m\u001b[0m\u001b[0m\n\u001b[1;32m   1135\u001b[0m     \u001b[0;32melse\u001b[0m\u001b[0;34m:\u001b[0m\u001b[0;34m\u001b[0m\u001b[0;34m\u001b[0m\u001b[0m\n\u001b[0;32m-> 1136\u001b[0;31m         \u001b[0mresult\u001b[0m \u001b[0;34m=\u001b[0m \u001b[0mtorch\u001b[0m\u001b[0;34m.\u001b[0m\u001b[0mrelu\u001b[0m\u001b[0;34m(\u001b[0m\u001b[0minput\u001b[0m\u001b[0;34m)\u001b[0m\u001b[0;34m\u001b[0m\u001b[0;34m\u001b[0m\u001b[0m\n\u001b[0m\u001b[1;32m   1137\u001b[0m     \u001b[0;32mreturn\u001b[0m \u001b[0mresult\u001b[0m\u001b[0;34m\u001b[0m\u001b[0;34m\u001b[0m\u001b[0m\n\u001b[1;32m   1138\u001b[0m \u001b[0;34m\u001b[0m\u001b[0m\n",
            "\u001b[0;31mRuntimeError\u001b[0m: CUDA out of memory. Tried to allocate 50.00 MiB (GPU 0; 14.73 GiB total capacity; 11.00 GiB already allocated; 45.88 MiB free; 13.75 GiB reserved in total by PyTorch)"
          ]
        }
      ]
    },
    {
      "cell_type": "markdown",
      "metadata": {
        "id": "1Hi51jz3f50m"
      },
      "source": [
        "## Part (b): Exploring bad masking schemes [10pt]\n",
        "\n",
        "As shown in lecture, the choice of masking or partitioning scheme affects the quality of the final flow model. In this part, design a *bad* masking scheme and train a model with it on the same CelebA dataset. \n",
        "\n",
        "**Provide the same deliverables as part (a)**"
      ]
    },
    {
      "cell_type": "code",
      "metadata": {
        "id": "3Pw-8auZf6oE"
      },
      "source": [
        "def q3_b(train_data, test_data):\n",
        "  \"\"\"\n",
        "  train_data: A (n_train, H, W, 3) uint8 numpy array of quantized images with values in {0, 1, 2, 3}\n",
        "  test_data: A (n_test, H, W, 3) uint8 numpy array of binary images with values in {0, 1, 2, 3}\n",
        "\n",
        "  Returns\n",
        "  - a (# of training iterations,) numpy array of train_losses evaluated every minibatch\n",
        "  - a (# of epochs + 1,) numpy array of test_losses evaluated once at initialization and after each epoch\n",
        "  - a numpy array of size (100, H, W, 3) of samples with values in [0, 1]\n",
        "  - a numpy array of size (30, H, W, 3) of interpolations with values in [0, 1].\n",
        "  \"\"\"\n",
        "  \n",
        "  \"\"\" YOUR CODE HERE \"\"\""
      ],
      "execution_count": 37,
      "outputs": []
    },
    {
      "cell_type": "code",
      "metadata": {
        "id": "DGYtb_1Tf6nA",
        "colab": {
          "base_uri": "https://localhost:8080/",
          "height": 286
        },
        "outputId": "cbcc8043-90e3-47cb-f336-108994947728"
      },
      "source": [
        "q3_save_results(q3_b, 'b')"
      ],
      "execution_count": 38,
      "outputs": [
        {
          "output_type": "error",
          "ename": "TypeError",
          "evalue": "ignored",
          "traceback": [
            "\u001b[0;31m---------------------------------------------------------------------------\u001b[0m",
            "\u001b[0;31mTypeError\u001b[0m                                 Traceback (most recent call last)",
            "\u001b[0;32m<ipython-input-38-53bb35550557>\u001b[0m in \u001b[0;36m<module>\u001b[0;34m()\u001b[0m\n\u001b[0;32m----> 1\u001b[0;31m \u001b[0mq3_save_results\u001b[0m\u001b[0;34m(\u001b[0m\u001b[0mq3_b\u001b[0m\u001b[0;34m,\u001b[0m \u001b[0;34m'b'\u001b[0m\u001b[0;34m)\u001b[0m\u001b[0;34m\u001b[0m\u001b[0;34m\u001b[0m\u001b[0m\n\u001b[0m",
            "\u001b[0;32m/usr/local/lib/python3.6/dist-packages/deepul/hw2_helper.py\u001b[0m in \u001b[0;36mq3_save_results\u001b[0;34m(fn, part)\u001b[0m\n\u001b[1;32m    176\u001b[0m     \u001b[0mtrain_data\u001b[0m\u001b[0;34m,\u001b[0m \u001b[0mtest_data\u001b[0m \u001b[0;34m=\u001b[0m \u001b[0mload_pickled_data\u001b[0m\u001b[0;34m(\u001b[0m\u001b[0mjoin\u001b[0m\u001b[0;34m(\u001b[0m\u001b[0mdata_dir\u001b[0m\u001b[0;34m,\u001b[0m \u001b[0;34m'celeb.pkl'\u001b[0m\u001b[0;34m)\u001b[0m\u001b[0;34m)\u001b[0m\u001b[0;34m\u001b[0m\u001b[0;34m\u001b[0m\u001b[0m\n\u001b[1;32m    177\u001b[0m \u001b[0;34m\u001b[0m\u001b[0m\n\u001b[0;32m--> 178\u001b[0;31m     \u001b[0mtrain_losses\u001b[0m\u001b[0;34m,\u001b[0m \u001b[0mtest_losses\u001b[0m\u001b[0;34m,\u001b[0m \u001b[0msamples\u001b[0m\u001b[0;34m,\u001b[0m \u001b[0minterpolations\u001b[0m \u001b[0;34m=\u001b[0m \u001b[0mfn\u001b[0m\u001b[0;34m(\u001b[0m\u001b[0mtrain_data\u001b[0m\u001b[0;34m,\u001b[0m \u001b[0mtest_data\u001b[0m\u001b[0;34m)\u001b[0m\u001b[0;34m\u001b[0m\u001b[0;34m\u001b[0m\u001b[0m\n\u001b[0m\u001b[1;32m    179\u001b[0m     \u001b[0msamples\u001b[0m \u001b[0;34m=\u001b[0m \u001b[0msamples\u001b[0m\u001b[0;34m.\u001b[0m\u001b[0mastype\u001b[0m\u001b[0;34m(\u001b[0m\u001b[0;34m'float'\u001b[0m\u001b[0;34m)\u001b[0m\u001b[0;34m\u001b[0m\u001b[0;34m\u001b[0m\u001b[0m\n\u001b[1;32m    180\u001b[0m     \u001b[0minterpolations\u001b[0m \u001b[0;34m=\u001b[0m \u001b[0minterpolations\u001b[0m\u001b[0;34m.\u001b[0m\u001b[0mastype\u001b[0m\u001b[0;34m(\u001b[0m\u001b[0;34m'float'\u001b[0m\u001b[0;34m)\u001b[0m\u001b[0;34m\u001b[0m\u001b[0;34m\u001b[0m\u001b[0m\n",
            "\u001b[0;31mTypeError\u001b[0m: 'NoneType' object is not iterable"
          ]
        }
      ]
    },
    {
      "cell_type": "markdown",
      "metadata": {
        "id": "LMZLcaHwLNNL"
      },
      "source": [
        "# Question 4: Bonus Questions (Optional)"
      ]
    },
    {
      "cell_type": "markdown",
      "metadata": {
        "id": "PEI31Zh0PE9g"
      },
      "source": [
        "## Q4(a): Multiscale RealNVP [10pt]\n",
        "Following the alternating checkerboard, channel squeeze, and channel partition scheme used in https://arxiv.org/abs/1605.08803, learn a multiscale RealNVP model on our CelebA dataset used in Question 3. We expect the same deliverables as in Question 3; additionally, make sure to include analysis on any difference in qualitative or quantitative differences you see in the results."
      ]
    },
    {
      "cell_type": "code",
      "metadata": {
        "id": "jboOas0xXYjG"
      },
      "source": [
        "def q4_a(train_data, test_data):\n",
        "  \"\"\"\n",
        "  train_data: A (n_train, H, W, 3) uint8 numpy array of quantized images with values in {0, 1, 2, 3}\n",
        "  test_data: A (n_test, H, W, 3) uint8 numpy array of binary images with values in {0, 1, 2, 3}\n",
        "\n",
        "  Returns\n",
        "  - a (# of training iterations,) numpy array of train_losses evaluated every minibatch\n",
        "  - a (# of epochs + 1,) numpy array of test_losses evaluated once at initialization and after each epoch\n",
        "  - a numpy array of size (100, H, W, 3) of samples with values in [0, 1]\n",
        "  - a numpy array of size (30, H, W, 3) of interpolations with values in [0, 1].\n",
        "  \"\"\"\n",
        "  \n",
        "  \"\"\" YOUR CODE HERE \"\"\""
      ],
      "execution_count": null,
      "outputs": []
    },
    {
      "cell_type": "code",
      "metadata": {
        "id": "p8zWH_SnPwcN"
      },
      "source": [
        "q3_save_results(q4_a, 'bonus_a')"
      ],
      "execution_count": null,
      "outputs": []
    },
    {
      "cell_type": "markdown",
      "metadata": {
        "id": "0oMGXWMzP4oO"
      },
      "source": [
        "## Q4(b): Glow [5pt]\n",
        "The Glow paper introduces the invertible 1x1 convolution as a replacement for the permutation scheme that follows the channel squeezing step. Use this in your model from Question 3, and report the same deliverables. Make sure to include analysis on any difference in qualitative or quantitative differences you see in the results."
      ]
    },
    {
      "cell_type": "code",
      "metadata": {
        "id": "d-qpWL8XXawq"
      },
      "source": [
        "def q4_b(train_data, test_data):\n",
        "  \"\"\"\n",
        "  train_data: A (n_train, H, W, 3) uint8 numpy array of quantized images with values in {0, 1, 2, 3}\n",
        "  test_data: A (n_test, H, W, 3) uint8 numpy array of binary images with values in {0, 1, 2, 3}\n",
        "\n",
        "  Returns\n",
        "  - a (# of training iterations,) numpy array of train_losses evaluated every minibatch\n",
        "  - a (# of epochs + 1,) numpy array of test_losses evaluated once at initialization and after each epoch\n",
        "  - a numpy array of size (100, H, W, 3) of samples with values in [0, 1]\n",
        "  - a numpy array of size (30, H, W, 3) of interpolations with values in [0, 1].\n",
        "  \"\"\"\n",
        "  \n",
        "  \"\"\" YOUR CODE HERE \"\"\""
      ],
      "execution_count": null,
      "outputs": []
    },
    {
      "cell_type": "code",
      "metadata": {
        "id": "CbGUrt3NQPWk"
      },
      "source": [
        "q3_save_results(q4_b, 'bonus_b')"
      ],
      "execution_count": null,
      "outputs": []
    },
    {
      "cell_type": "markdown",
      "metadata": {
        "id": "QF0RJz4nVVp8"
      },
      "source": [
        "# File Saving Utility\n"
      ]
    },
    {
      "cell_type": "code",
      "metadata": {
        "id": "tfg8RZ01L8h8"
      },
      "source": [
        "# one way to save files\n",
        "from google.colab import files\n",
        "import os\n",
        "import os.path as osp\n",
        "for fname in os.listdir('results'):\n",
        "    files.download('results/' + fname)"
      ],
      "execution_count": null,
      "outputs": []
    }
  ]
}